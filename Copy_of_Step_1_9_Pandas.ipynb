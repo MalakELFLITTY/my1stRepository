{
  "nbformat": 4,
  "nbformat_minor": 0,
  "metadata": {
    "anaconda-cloud": {},
    "kernelspec": {
      "display_name": "Python 3",
      "language": "python",
      "name": "python3"
    },
    "language_info": {
      "codemirror_mode": {
        "name": "ipython",
        "version": 3
      },
      "file_extension": ".py",
      "mimetype": "text/x-python",
      "name": "python",
      "nbconvert_exporter": "python",
      "pygments_lexer": "ipython3",
      "version": "3.7.1"
    },
    "colab": {
      "name": "Copy of Step_1_9_Pandas.ipynb",
      "provenance": [],
      "include_colab_link": true
    }
  },
  "cells": [
    {
      "cell_type": "markdown",
      "metadata": {
        "id": "view-in-github",
        "colab_type": "text"
      },
      "source": [
        "<a href=\"https://colab.research.google.com/github/MalakELFLITTY/my1stRepository/blob/master/Copy_of_Step_1_9_Pandas.ipynb\" target=\"_parent\"><img src=\"https://colab.research.google.com/assets/colab-badge.svg\" alt=\"Open In Colab\"/></a>"
      ]
    },
    {
      "cell_type": "markdown",
      "metadata": {
        "id": "UaHHno1-jwwk",
        "colab_type": "text"
      },
      "source": [
        "# Pandas\n",
        "\n",
        "pandas is an open source Python package providing fast, flexible, and expressive data structures designed to make working with “relational” or “labeled” data both easy and intuitive."
      ]
    },
    {
      "cell_type": "code",
      "metadata": {
        "id": "_5YD0rDzRyd_",
        "colab_type": "code",
        "outputId": "0516df32-b05e-49bf-9d70-2239338c7ac9",
        "colab": {
          "base_uri": "https://localhost:8080/",
          "height": 265
        }
      },
      "source": [
        "!pip install PyDrive\n",
        "\n",
        "\n",
        "from pydrive.auth import GoogleAuth\n",
        "from pydrive.drive import GoogleDrive\n",
        "from google.colab import auth\n",
        "from oauth2client.client import GoogleCredentials\n",
        "import os\n",
        "\n",
        "class download_data_from_folder(object):\n",
        "    def __init__(self,path):\n",
        "        path_id = path[path.find('id=')+3:]\n",
        "        self.file_list = self.get_files_in_location(path_id)\n",
        "        self.unwrap_data(self.file_list)\n",
        "    def get_files_in_location(self,folder_id):\n",
        "        file_list = drive.ListFile({'q': \"'{}' in parents and trashed=false\".format(folder_id)}).GetList()\n",
        "        return file_list\n",
        "    def unwrap_data(self,file_list,directory='.'):\n",
        "        for i, file in enumerate(file_list):\n",
        "            print(str((i + 1) / len(file_list) * 100) + '% done copying')\n",
        "            if file['mimeType'].find('folder') != -1:\n",
        "                if not os.path.exists(os.path.join(directory, file['title'])):\n",
        "                    os.makedirs(os.path.join(directory, file['title']))\n",
        "                print('Copying folder ' + os.path.join(directory, file['title']))\n",
        "                self.unwrap_data(self.get_files_in_location(file['id']), os.path.join(directory, file['title']))\n",
        "            else:\n",
        "                if not os.path.exists(os.path.join(directory, file['title'])):\n",
        "                    downloaded = drive.CreateFile({'id': file['id']})\n",
        "                    downloaded.GetContentFile(os.path.join(directory, file['title']))\n",
        "        return None"
      ],
      "execution_count": 8,
      "outputs": [
        {
          "output_type": "stream",
          "text": [
            "Requirement already satisfied: PyDrive in /usr/local/lib/python3.6/dist-packages (1.3.1)\n",
            "Requirement already satisfied: PyYAML>=3.0 in /usr/local/lib/python3.6/dist-packages (from PyDrive) (3.13)\n",
            "Requirement already satisfied: oauth2client>=4.0.0 in /usr/local/lib/python3.6/dist-packages (from PyDrive) (4.1.3)\n",
            "Requirement already satisfied: google-api-python-client>=1.2 in /usr/local/lib/python3.6/dist-packages (from PyDrive) (1.7.12)\n",
            "Requirement already satisfied: rsa>=3.1.4 in /usr/local/lib/python3.6/dist-packages (from oauth2client>=4.0.0->PyDrive) (4.0)\n",
            "Requirement already satisfied: six>=1.6.1 in /usr/local/lib/python3.6/dist-packages (from oauth2client>=4.0.0->PyDrive) (1.12.0)\n",
            "Requirement already satisfied: httplib2>=0.9.1 in /usr/local/lib/python3.6/dist-packages (from oauth2client>=4.0.0->PyDrive) (0.17.1)\n",
            "Requirement already satisfied: pyasn1-modules>=0.0.5 in /usr/local/lib/python3.6/dist-packages (from oauth2client>=4.0.0->PyDrive) (0.2.8)\n",
            "Requirement already satisfied: pyasn1>=0.1.7 in /usr/local/lib/python3.6/dist-packages (from oauth2client>=4.0.0->PyDrive) (0.4.8)\n",
            "Requirement already satisfied: uritemplate<4dev,>=3.0.0 in /usr/local/lib/python3.6/dist-packages (from google-api-python-client>=1.2->PyDrive) (3.0.1)\n",
            "Requirement already satisfied: google-auth-httplib2>=0.0.3 in /usr/local/lib/python3.6/dist-packages (from google-api-python-client>=1.2->PyDrive) (0.0.3)\n",
            "Requirement already satisfied: google-auth>=1.4.1 in /usr/local/lib/python3.6/dist-packages (from google-api-python-client>=1.2->PyDrive) (1.7.2)\n",
            "Requirement already satisfied: setuptools>=40.3.0 in /usr/local/lib/python3.6/dist-packages (from google-auth>=1.4.1->google-api-python-client>=1.2->PyDrive) (46.1.3)\n",
            "Requirement already satisfied: cachetools<3.2,>=2.0.0 in /usr/local/lib/python3.6/dist-packages (from google-auth>=1.4.1->google-api-python-client>=1.2->PyDrive) (3.1.1)\n"
          ],
          "name": "stdout"
        }
      ]
    },
    {
      "cell_type": "code",
      "metadata": {
        "id": "KS4e5IpJjwwm",
        "colab_type": "code",
        "colab": {}
      },
      "source": [
        "import pandas as pd\n",
        "import numpy as np\n",
        "import matplotlib.pyplot as plt"
      ],
      "execution_count": 0,
      "outputs": []
    },
    {
      "cell_type": "markdown",
      "metadata": {
        "id": "poJvSaxqjwwp",
        "colab_type": "text"
      },
      "source": [
        "Two key data structures were introduced to Python by Pandas, both of which are essentially built on top of NumPy and inherits its fast performance \n",
        "\n",
        "* Series \n",
        "* DataFrame"
      ]
    },
    {
      "cell_type": "markdown",
      "metadata": {
        "id": "-C2lES9ojwwq",
        "colab_type": "text"
      },
      "source": [
        "## Series\n",
        "\n",
        "This is a 1-dimensional object similar to column in a spreadsheet or SQL table. By default each item will be assigned a index label from 0 to N. "
      ]
    },
    {
      "cell_type": "code",
      "metadata": {
        "id": "EJYqXkh0jwwq",
        "colab_type": "code",
        "outputId": "e6f07d85-f3f0-4f22-cd80-c23e151e9395",
        "colab": {
          "base_uri": "https://localhost:8080/",
          "height": 147
        }
      },
      "source": [
        "# creating a series by passing a list of values, and a custom index label. \n",
        "# Note that the labled index reference for each row and it can have duplicate values\n",
        "s = pd.Series([1,2,3,np.nan,5,6], index=['A','B','C','D','E','F'])\n",
        "print (s)\n",
        "print (s[0])"
      ],
      "execution_count": 35,
      "outputs": [
        {
          "output_type": "stream",
          "text": [
            "A    1.0\n",
            "B    2.0\n",
            "C    3.0\n",
            "D    NaN\n",
            "E    5.0\n",
            "F    6.0\n",
            "dtype: float64\n",
            "1.0\n"
          ],
          "name": "stdout"
        }
      ]
    },
    {
      "cell_type": "markdown",
      "metadata": {
        "id": "usQNJfcCjwwu",
        "colab_type": "text"
      },
      "source": [
        "### If you create a series using dictionary the key will become the index by default."
      ]
    },
    {
      "cell_type": "code",
      "metadata": {
        "id": "0DTW_ApIjwwu",
        "colab_type": "code",
        "outputId": "ab2dcd3f-e152-431f-cc9a-7d9517c3d8f7",
        "colab": {
          "base_uri": "https://localhost:8080/",
          "height": 147
        }
      },
      "source": [
        " # The Series constructor can convert a dictonary as well, using the keys of the dictionary as its index\n",
        "sample_dict = {'A':1,'B':2,'C':3,'D':np.nan,'E':5,'F':6}\n",
        "sample_dict\n",
        "\n",
        "s = pd.Series(sample_dict)\n",
        "print (s) \n",
        "print(s['B'])  "
      ],
      "execution_count": 40,
      "outputs": [
        {
          "output_type": "stream",
          "text": [
            "A    1.0\n",
            "B    2.0\n",
            "C    3.0\n",
            "D    NaN\n",
            "E    5.0\n",
            "F    6.0\n",
            "dtype: float64\n",
            "2.0\n"
          ],
          "name": "stdout"
        }
      ]
    },
    {
      "cell_type": "markdown",
      "metadata": {
        "id": "8aGjuRvmjwwx",
        "colab_type": "text"
      },
      "source": [
        "### DataFrame\n",
        "\n",
        "It is a 2-dimensional object similar to spreadsheet or a SQL table. This is the most commonly used pandas object."
      ]
    },
    {
      "cell_type": "code",
      "metadata": {
        "id": "6-0zFuGFjwwy",
        "colab_type": "code",
        "outputId": "1a77b9aa-a33b-4e1e-bc7e-b90c4adf3f3d",
        "colab": {
          "base_uri": "https://localhost:8080/",
          "height": 133
        }
      },
      "source": [
        "\n",
        "data = {'Gender': ['F', 'M', 'M'],\n",
        "        'Emp_ID': ['E01', 'E02', 'E03'],\n",
        "        'Age': [25, 27, 25]}\n",
        "\n",
        "# We want the order the columns, so lets specify in columns parameter\n",
        "df = pd.DataFrame(data, columns=['Emp_ID','Age', 'Gender'])\n",
        "df"
      ],
      "execution_count": 43,
      "outputs": [
        {
          "output_type": "execute_result",
          "data": {
            "text/html": [
              "<div>\n",
              "<style scoped>\n",
              "    .dataframe tbody tr th:only-of-type {\n",
              "        vertical-align: middle;\n",
              "    }\n",
              "\n",
              "    .dataframe tbody tr th {\n",
              "        vertical-align: top;\n",
              "    }\n",
              "\n",
              "    .dataframe thead th {\n",
              "        text-align: right;\n",
              "    }\n",
              "</style>\n",
              "<table border=\"1\" class=\"dataframe\">\n",
              "  <thead>\n",
              "    <tr style=\"text-align: right;\">\n",
              "      <th></th>\n",
              "      <th>Emp_ID</th>\n",
              "      <th>Age</th>\n",
              "      <th>Gender</th>\n",
              "    </tr>\n",
              "  </thead>\n",
              "  <tbody>\n",
              "    <tr>\n",
              "      <th>0</th>\n",
              "      <td>E01</td>\n",
              "      <td>25</td>\n",
              "      <td>F</td>\n",
              "    </tr>\n",
              "    <tr>\n",
              "      <th>1</th>\n",
              "      <td>E02</td>\n",
              "      <td>27</td>\n",
              "      <td>M</td>\n",
              "    </tr>\n",
              "    <tr>\n",
              "      <th>2</th>\n",
              "      <td>E03</td>\n",
              "      <td>25</td>\n",
              "      <td>M</td>\n",
              "    </tr>\n",
              "  </tbody>\n",
              "</table>\n",
              "</div>"
            ],
            "text/plain": [
              "  Emp_ID  Age Gender\n",
              "0    E01   25      F\n",
              "1    E02   27      M\n",
              "2    E03   25      M"
            ]
          },
          "metadata": {
            "tags": []
          },
          "execution_count": 43
        }
      ]
    },
    {
      "cell_type": "markdown",
      "metadata": {
        "id": "KHmsH1o2jww1",
        "colab_type": "text"
      },
      "source": [
        "### Reading and Writing Data\n",
        "\n",
        "We'll see 3 commonly used file format under reading and writing \n",
        "* csv\n",
        "* .txt\n",
        "* Excel\n",
        "\n",
        "Note: Write will by default overwrite any existing file with same name"
      ]
    },
    {
      "cell_type": "code",
      "metadata": {
        "id": "2VINVpYIjww2",
        "colab_type": "code",
        "colab": {}
      },
      "source": [
        "# from csv\n",
        "import pandas as pd\n",
        "df=pd.read_csv('Data/mtcars.csv')\n",
        "\n",
        "# to csv, index = False will not write the row numbers\n",
        "df.to_csv('Data/mtcars_new.csv', index=False)"
      ],
      "execution_count": 0,
      "outputs": []
    },
    {
      "cell_type": "code",
      "metadata": {
        "id": "rEepiQ7VSAp_",
        "colab_type": "code",
        "outputId": "93d2070c-6a3a-4693-8618-d79af1d76f8e",
        "colab": {
          "base_uri": "https://localhost:8080/",
          "height": 33
        }
      },
      "source": [
        "from google.colab import drive\n",
        "drive.mount('/content/drive')"
      ],
      "execution_count": 45,
      "outputs": [
        {
          "output_type": "stream",
          "text": [
            "Drive already mounted at /content/drive; to attempt to forcibly remount, call drive.mount(\"/content/drive\", force_remount=True).\n"
          ],
          "name": "stdout"
        }
      ]
    },
    {
      "cell_type": "code",
      "metadata": {
        "id": "enTLgX1m-VC5",
        "colab_type": "code",
        "colab": {
          "base_uri": "https://localhost:8080/",
          "height": 573
        },
        "outputId": "263d22e3-2998-486a-b617-9b669aaf10fe"
      },
      "source": [
        "# Code to read csv file into Colaboratory:\n",
        "!pip install -U -q PyDrive\n",
        "import os\n",
        "from pydrive.auth import GoogleAuth\n",
        "from pydrive.drive import GoogleDrive\n",
        "from google.colab import auth\n",
        "from oauth2client.client import GoogleCredentials\n",
        "# Authenticate and create the PyDrive client.\n",
        "auth.authenticate_user()\n",
        "gauth = GoogleAuth()\n",
        "gauth.credentials = GoogleCredentials.get_application_default()\n",
        "drive = GoogleDrive(gauth)\n",
        "!pip install PyDrive\n",
        "\n",
        "\n",
        "from pydrive.auth import GoogleAuth\n",
        "from pydrive.drive import GoogleDrive\n",
        "from google.colab import auth\n",
        "from oauth2client.client import GoogleCredentials\n",
        "import os\n",
        "\n",
        "class download_data_from_folder(object):\n",
        "    def __init__(self,path):\n",
        "        path_id = path[path.find('id=')+3:]\n",
        "        self.file_list = self.get_files_in_location(path_id)\n",
        "        self.unwrap_data(self.file_list)\n",
        "    def get_files_in_location(self,folder_id):\n",
        "        file_list = drive.ListFile({'q': \"'{}' in parents and trashed=false\".format(folder_id)}).GetList()\n",
        "        return file_list\n",
        "    def unwrap_data(self,file_list,directory='.'):\n",
        "        for i, file in enumerate(file_list):\n",
        "            print(str((i + 1) / len(file_list) * 100) + '% done copying')\n",
        "            if file['mimeType'].find('folder') != -1:\n",
        "                if not os.path.exists(os.path.join(directory, file['title'])):\n",
        "                    os.makedirs(os.path.join(directory, file['title']))\n",
        "                print('Copying folder ' + os.path.join(directory, file['title']))\n",
        "                self.unwrap_data(self.get_files_in_location(file['id']), os.path.join(directory, file['title']))\n",
        "            else:\n",
        "                if not os.path.exists(os.path.join(directory, file['title'])):\n",
        "                    downloaded = drive.CreateFile({'id': file['id']})\n",
        "                    downloaded.GetContentFile(os.path.join(directory, file['title']))\n",
        "        return None\n",
        "data_path = 'https://drive.google.com/open?id=1mXqni4Q39NddlqzxiWYg9hDYxznQb06i'\n",
        "download_data_from_folder(data_path)"
      ],
      "execution_count": 6,
      "outputs": [
        {
          "output_type": "stream",
          "text": [
            "Requirement already satisfied: PyDrive in /usr/local/lib/python3.6/dist-packages (1.3.1)\n",
            "Requirement already satisfied: google-api-python-client>=1.2 in /usr/local/lib/python3.6/dist-packages (from PyDrive) (1.7.12)\n",
            "Requirement already satisfied: oauth2client>=4.0.0 in /usr/local/lib/python3.6/dist-packages (from PyDrive) (4.1.3)\n",
            "Requirement already satisfied: PyYAML>=3.0 in /usr/local/lib/python3.6/dist-packages (from PyDrive) (3.13)\n",
            "Requirement already satisfied: google-auth>=1.4.1 in /usr/local/lib/python3.6/dist-packages (from google-api-python-client>=1.2->PyDrive) (1.7.2)\n",
            "Requirement already satisfied: six<2dev,>=1.6.1 in /usr/local/lib/python3.6/dist-packages (from google-api-python-client>=1.2->PyDrive) (1.12.0)\n",
            "Requirement already satisfied: uritemplate<4dev,>=3.0.0 in /usr/local/lib/python3.6/dist-packages (from google-api-python-client>=1.2->PyDrive) (3.0.1)\n",
            "Requirement already satisfied: httplib2<1dev,>=0.17.0 in /usr/local/lib/python3.6/dist-packages (from google-api-python-client>=1.2->PyDrive) (0.17.1)\n",
            "Requirement already satisfied: google-auth-httplib2>=0.0.3 in /usr/local/lib/python3.6/dist-packages (from google-api-python-client>=1.2->PyDrive) (0.0.3)\n",
            "Requirement already satisfied: pyasn1>=0.1.7 in /usr/local/lib/python3.6/dist-packages (from oauth2client>=4.0.0->PyDrive) (0.4.8)\n",
            "Requirement already satisfied: rsa>=3.1.4 in /usr/local/lib/python3.6/dist-packages (from oauth2client>=4.0.0->PyDrive) (4.0)\n",
            "Requirement already satisfied: pyasn1-modules>=0.0.5 in /usr/local/lib/python3.6/dist-packages (from oauth2client>=4.0.0->PyDrive) (0.2.8)\n",
            "Requirement already satisfied: cachetools<3.2,>=2.0.0 in /usr/local/lib/python3.6/dist-packages (from google-auth>=1.4.1->google-api-python-client>=1.2->PyDrive) (3.1.1)\n",
            "Requirement already satisfied: setuptools>=40.3.0 in /usr/local/lib/python3.6/dist-packages (from google-auth>=1.4.1->google-api-python-client>=1.2->PyDrive) (46.1.3)\n",
            "5.555555555555555% done copying\n",
            "11.11111111111111% done copying\n",
            "16.666666666666664% done copying\n",
            "22.22222222222222% done copying\n",
            "27.77777777777778% done copying\n",
            "33.33333333333333% done copying\n",
            "38.88888888888889% done copying\n",
            "44.44444444444444% done copying\n",
            "50.0% done copying\n",
            "55.55555555555556% done copying\n",
            "61.111111111111114% done copying\n",
            "66.66666666666666% done copying\n",
            "72.22222222222221% done copying\n",
            "77.77777777777779% done copying\n",
            "83.33333333333334% done copying\n",
            "88.88888888888889% done copying\n",
            "94.44444444444444% done copying\n",
            "100.0% done copying\n"
          ],
          "name": "stdout"
        },
        {
          "output_type": "execute_result",
          "data": {
            "text/plain": [
              "<__main__.download_data_from_folder at 0x7f326a180400>"
            ]
          },
          "metadata": {
            "tags": []
          },
          "execution_count": 6
        }
      ]
    },
    {
      "cell_type": "code",
      "metadata": {
        "id": "q3zsgQk3jww5",
        "colab_type": "code",
        "colab": {}
      },
      "source": [
        "# from .txt file\n",
        "df=pd.read_csv('Data/mtcars.txt', sep='\\t')\n",
        "\n",
        "# to .txt, index = False will not write the row numbers\n",
        "df.to_csv('Data/mtcars_new.txt', sep='\\t', index=False)"
      ],
      "execution_count": 0,
      "outputs": []
    },
    {
      "cell_type": "code",
      "metadata": {
        "id": "q3KcgXu5jww9",
        "colab_type": "code",
        "colab": {}
      },
      "source": [
        "# from Excel\n",
        "df=pd.read_excel('Data/mtcars.xlsx','Sheet2')\n",
        "\n",
        "df.to_excel('Data/mtcars_new.xlsx',sheet_name='Sheet1', index = False)\n",
        "\n",
        "# reading from multiple sheets of same Excel into different dataframes\n",
        "# xlsx = pd.ExcelFile('file_name.xls')\n",
        "# sheet1_df = pd.read_excel(xlsx, 'Sheet1')\n",
        "# sheet2_df = pd.read_excel(xlsx, 'Sheet2')"
      ],
      "execution_count": 0,
      "outputs": []
    },
    {
      "cell_type": "markdown",
      "metadata": {
        "id": "3t9yOBjrjww_",
        "colab_type": "text"
      },
      "source": [
        "### Basic Statistics on DataFrame\n",
        "\n",
        "describe() - will returns the quick stats such as count, mean, std, min, first quartile, median, third quartile, max on each column of the DataFrame"
      ]
    },
    {
      "cell_type": "code",
      "metadata": {
        "id": "xI4rnarnjwxA",
        "colab_type": "code",
        "outputId": "4b448bc2-ac88-4300-ffbc-3797f0982f26",
        "colab": {
          "base_uri": "https://localhost:8080/",
          "height": 277
        }
      },
      "source": [
        "# Summary statistics for the dataframe\n",
        "\n",
        "df = pd.read_csv('Data/iris.csv')\n",
        "df.describe()"
      ],
      "execution_count": 48,
      "outputs": [
        {
          "output_type": "execute_result",
          "data": {
            "text/html": [
              "<div>\n",
              "<style scoped>\n",
              "    .dataframe tbody tr th:only-of-type {\n",
              "        vertical-align: middle;\n",
              "    }\n",
              "\n",
              "    .dataframe tbody tr th {\n",
              "        vertical-align: top;\n",
              "    }\n",
              "\n",
              "    .dataframe thead th {\n",
              "        text-align: right;\n",
              "    }\n",
              "</style>\n",
              "<table border=\"1\" class=\"dataframe\">\n",
              "  <thead>\n",
              "    <tr style=\"text-align: right;\">\n",
              "      <th></th>\n",
              "      <th>Sepal.Length</th>\n",
              "      <th>Sepal.Width</th>\n",
              "      <th>Petal.Length</th>\n",
              "      <th>Petal.Width</th>\n",
              "    </tr>\n",
              "  </thead>\n",
              "  <tbody>\n",
              "    <tr>\n",
              "      <th>count</th>\n",
              "      <td>150.000000</td>\n",
              "      <td>150.000000</td>\n",
              "      <td>150.000000</td>\n",
              "      <td>150.000000</td>\n",
              "    </tr>\n",
              "    <tr>\n",
              "      <th>mean</th>\n",
              "      <td>5.843333</td>\n",
              "      <td>3.057333</td>\n",
              "      <td>3.758000</td>\n",
              "      <td>1.199333</td>\n",
              "    </tr>\n",
              "    <tr>\n",
              "      <th>std</th>\n",
              "      <td>0.828066</td>\n",
              "      <td>0.435866</td>\n",
              "      <td>1.765298</td>\n",
              "      <td>0.762238</td>\n",
              "    </tr>\n",
              "    <tr>\n",
              "      <th>min</th>\n",
              "      <td>4.300000</td>\n",
              "      <td>2.000000</td>\n",
              "      <td>1.000000</td>\n",
              "      <td>0.100000</td>\n",
              "    </tr>\n",
              "    <tr>\n",
              "      <th>25%</th>\n",
              "      <td>5.100000</td>\n",
              "      <td>2.800000</td>\n",
              "      <td>1.600000</td>\n",
              "      <td>0.300000</td>\n",
              "    </tr>\n",
              "    <tr>\n",
              "      <th>50%</th>\n",
              "      <td>5.800000</td>\n",
              "      <td>3.000000</td>\n",
              "      <td>4.350000</td>\n",
              "      <td>1.300000</td>\n",
              "    </tr>\n",
              "    <tr>\n",
              "      <th>75%</th>\n",
              "      <td>6.400000</td>\n",
              "      <td>3.300000</td>\n",
              "      <td>5.100000</td>\n",
              "      <td>1.800000</td>\n",
              "    </tr>\n",
              "    <tr>\n",
              "      <th>max</th>\n",
              "      <td>7.900000</td>\n",
              "      <td>4.400000</td>\n",
              "      <td>6.900000</td>\n",
              "      <td>2.500000</td>\n",
              "    </tr>\n",
              "  </tbody>\n",
              "</table>\n",
              "</div>"
            ],
            "text/plain": [
              "       Sepal.Length  Sepal.Width  Petal.Length  Petal.Width\n",
              "count    150.000000   150.000000    150.000000   150.000000\n",
              "mean       5.843333     3.057333      3.758000     1.199333\n",
              "std        0.828066     0.435866      1.765298     0.762238\n",
              "min        4.300000     2.000000      1.000000     0.100000\n",
              "25%        5.100000     2.800000      1.600000     0.300000\n",
              "50%        5.800000     3.000000      4.350000     1.300000\n",
              "75%        6.400000     3.300000      5.100000     1.800000\n",
              "max        7.900000     4.400000      6.900000     2.500000"
            ]
          },
          "metadata": {
            "tags": []
          },
          "execution_count": 48
        }
      ]
    },
    {
      "cell_type": "markdown",
      "metadata": {
        "id": "JlGHIMHejwxD",
        "colab_type": "text"
      },
      "source": [
        "### Covariance\n",
        "\n",
        "Covariance is one of the fundamental technique to understand the relation between two variable. A positive covariance number between two variables means that they are positively related, while a negative covariance number means the variables are inversely related. The key drawback of covariance is that it does explain us the degree of positive or negative relation between variables"
      ]
    },
    {
      "cell_type": "code",
      "metadata": {
        "id": "PGQYxSeAjwxE",
        "colab_type": "code",
        "outputId": "5b6917a1-e34f-492b-af80-e7e2c99b19ae",
        "colab": {
          "base_uri": "https://localhost:8080/",
          "height": 162
        }
      },
      "source": [
        "# covariance: It returns the co-variance between suitable columns\n",
        "df.cov()"
      ],
      "execution_count": 49,
      "outputs": [
        {
          "output_type": "execute_result",
          "data": {
            "text/html": [
              "<div>\n",
              "<style scoped>\n",
              "    .dataframe tbody tr th:only-of-type {\n",
              "        vertical-align: middle;\n",
              "    }\n",
              "\n",
              "    .dataframe tbody tr th {\n",
              "        vertical-align: top;\n",
              "    }\n",
              "\n",
              "    .dataframe thead th {\n",
              "        text-align: right;\n",
              "    }\n",
              "</style>\n",
              "<table border=\"1\" class=\"dataframe\">\n",
              "  <thead>\n",
              "    <tr style=\"text-align: right;\">\n",
              "      <th></th>\n",
              "      <th>Sepal.Length</th>\n",
              "      <th>Sepal.Width</th>\n",
              "      <th>Petal.Length</th>\n",
              "      <th>Petal.Width</th>\n",
              "    </tr>\n",
              "  </thead>\n",
              "  <tbody>\n",
              "    <tr>\n",
              "      <th>Sepal.Length</th>\n",
              "      <td>0.685694</td>\n",
              "      <td>-0.042434</td>\n",
              "      <td>1.274315</td>\n",
              "      <td>0.516271</td>\n",
              "    </tr>\n",
              "    <tr>\n",
              "      <th>Sepal.Width</th>\n",
              "      <td>-0.042434</td>\n",
              "      <td>0.189979</td>\n",
              "      <td>-0.329656</td>\n",
              "      <td>-0.121639</td>\n",
              "    </tr>\n",
              "    <tr>\n",
              "      <th>Petal.Length</th>\n",
              "      <td>1.274315</td>\n",
              "      <td>-0.329656</td>\n",
              "      <td>3.116278</td>\n",
              "      <td>1.295609</td>\n",
              "    </tr>\n",
              "    <tr>\n",
              "      <th>Petal.Width</th>\n",
              "      <td>0.516271</td>\n",
              "      <td>-0.121639</td>\n",
              "      <td>1.295609</td>\n",
              "      <td>0.581006</td>\n",
              "    </tr>\n",
              "  </tbody>\n",
              "</table>\n",
              "</div>"
            ],
            "text/plain": [
              "              Sepal.Length  Sepal.Width  Petal.Length  Petal.Width\n",
              "Sepal.Length      0.685694    -0.042434      1.274315     0.516271\n",
              "Sepal.Width      -0.042434     0.189979     -0.329656    -0.121639\n",
              "Petal.Length      1.274315    -0.329656      3.116278     1.295609\n",
              "Petal.Width       0.516271    -0.121639      1.295609     0.581006"
            ]
          },
          "metadata": {
            "tags": []
          },
          "execution_count": 49
        }
      ]
    },
    {
      "cell_type": "markdown",
      "metadata": {
        "id": "28Mz6rHljwxH",
        "colab_type": "text"
      },
      "source": [
        "### Correlation\n",
        "\n",
        "Correlation is another most commonly used technique to determine the relationship between two variables. Correlation will explain wheather variables are positively or inversely related, also number tells us the degree to which the variables tend to move together.\n",
        "\n",
        "When we say that two items are correlated means that the change in one item effects a change in another item. Correlation is always a range between -1 and 1. For example, If two items have a correlation of .6 (60%) means that change in one item results in positive 60% change to another item."
      ]
    },
    {
      "cell_type": "code",
      "metadata": {
        "id": "5uz328JLjwxI",
        "colab_type": "code",
        "outputId": "3bb51961-9c9e-4d3d-e31a-1a4906ee818d",
        "colab": {
          "base_uri": "https://localhost:8080/",
          "height": 162
        }
      },
      "source": [
        "# correlation: It returns the correlation between suitable columns.\n",
        "\n",
        "df.corr()"
      ],
      "execution_count": 50,
      "outputs": [
        {
          "output_type": "execute_result",
          "data": {
            "text/html": [
              "<div>\n",
              "<style scoped>\n",
              "    .dataframe tbody tr th:only-of-type {\n",
              "        vertical-align: middle;\n",
              "    }\n",
              "\n",
              "    .dataframe tbody tr th {\n",
              "        vertical-align: top;\n",
              "    }\n",
              "\n",
              "    .dataframe thead th {\n",
              "        text-align: right;\n",
              "    }\n",
              "</style>\n",
              "<table border=\"1\" class=\"dataframe\">\n",
              "  <thead>\n",
              "    <tr style=\"text-align: right;\">\n",
              "      <th></th>\n",
              "      <th>Sepal.Length</th>\n",
              "      <th>Sepal.Width</th>\n",
              "      <th>Petal.Length</th>\n",
              "      <th>Petal.Width</th>\n",
              "    </tr>\n",
              "  </thead>\n",
              "  <tbody>\n",
              "    <tr>\n",
              "      <th>Sepal.Length</th>\n",
              "      <td>1.000000</td>\n",
              "      <td>-0.117570</td>\n",
              "      <td>0.871754</td>\n",
              "      <td>0.817941</td>\n",
              "    </tr>\n",
              "    <tr>\n",
              "      <th>Sepal.Width</th>\n",
              "      <td>-0.117570</td>\n",
              "      <td>1.000000</td>\n",
              "      <td>-0.428440</td>\n",
              "      <td>-0.366126</td>\n",
              "    </tr>\n",
              "    <tr>\n",
              "      <th>Petal.Length</th>\n",
              "      <td>0.871754</td>\n",
              "      <td>-0.428440</td>\n",
              "      <td>1.000000</td>\n",
              "      <td>0.962865</td>\n",
              "    </tr>\n",
              "    <tr>\n",
              "      <th>Petal.Width</th>\n",
              "      <td>0.817941</td>\n",
              "      <td>-0.366126</td>\n",
              "      <td>0.962865</td>\n",
              "      <td>1.000000</td>\n",
              "    </tr>\n",
              "  </tbody>\n",
              "</table>\n",
              "</div>"
            ],
            "text/plain": [
              "              Sepal.Length  Sepal.Width  Petal.Length  Petal.Width\n",
              "Sepal.Length      1.000000    -0.117570      0.871754     0.817941\n",
              "Sepal.Width      -0.117570     1.000000     -0.428440    -0.366126\n",
              "Petal.Length      0.871754    -0.428440      1.000000     0.962865\n",
              "Petal.Width       0.817941    -0.366126      0.962865     1.000000"
            ]
          },
          "metadata": {
            "tags": []
          },
          "execution_count": 50
        }
      ]
    },
    {
      "cell_type": "markdown",
      "metadata": {
        "id": "--FBfgjrjwxL",
        "colab_type": "text"
      },
      "source": [
        "### Viewing Data"
      ]
    },
    {
      "cell_type": "code",
      "metadata": {
        "id": "xZq9mF9YjwxM",
        "colab_type": "code",
        "outputId": "4ead4149-ac7c-44c8-b69d-3f5088680c94",
        "colab": {
          "base_uri": "https://localhost:8080/",
          "height": 105
        }
      },
      "source": [
        "# Looking at the top n records\n",
        "# view 1st 2 rows. If n not specified the default value is 5\n",
        "df.head(n=2)"
      ],
      "execution_count": 51,
      "outputs": [
        {
          "output_type": "execute_result",
          "data": {
            "text/html": [
              "<div>\n",
              "<style scoped>\n",
              "    .dataframe tbody tr th:only-of-type {\n",
              "        vertical-align: middle;\n",
              "    }\n",
              "\n",
              "    .dataframe tbody tr th {\n",
              "        vertical-align: top;\n",
              "    }\n",
              "\n",
              "    .dataframe thead th {\n",
              "        text-align: right;\n",
              "    }\n",
              "</style>\n",
              "<table border=\"1\" class=\"dataframe\">\n",
              "  <thead>\n",
              "    <tr style=\"text-align: right;\">\n",
              "      <th></th>\n",
              "      <th>Sepal.Length</th>\n",
              "      <th>Sepal.Width</th>\n",
              "      <th>Petal.Length</th>\n",
              "      <th>Petal.Width</th>\n",
              "      <th>Species</th>\n",
              "    </tr>\n",
              "  </thead>\n",
              "  <tbody>\n",
              "    <tr>\n",
              "      <th>0</th>\n",
              "      <td>5.1</td>\n",
              "      <td>3.5</td>\n",
              "      <td>1.4</td>\n",
              "      <td>0.2</td>\n",
              "      <td>setosa</td>\n",
              "    </tr>\n",
              "    <tr>\n",
              "      <th>1</th>\n",
              "      <td>4.9</td>\n",
              "      <td>3.0</td>\n",
              "      <td>1.4</td>\n",
              "      <td>0.2</td>\n",
              "      <td>setosa</td>\n",
              "    </tr>\n",
              "  </tbody>\n",
              "</table>\n",
              "</div>"
            ],
            "text/plain": [
              "   Sepal.Length  Sepal.Width  Petal.Length  Petal.Width Species\n",
              "0           5.1          3.5           1.4          0.2  setosa\n",
              "1           4.9          3.0           1.4          0.2  setosa"
            ]
          },
          "metadata": {
            "tags": []
          },
          "execution_count": 51
        }
      ]
    },
    {
      "cell_type": "code",
      "metadata": {
        "id": "QY89ESMnjwxP",
        "colab_type": "code",
        "outputId": "f6e62a18-a2bb-41c3-97e8-d37537f5172f",
        "colab": {
          "base_uri": "https://localhost:8080/",
          "height": 191
        }
      },
      "source": [
        "# looking at the bottom n records\n",
        "df.tail()"
      ],
      "execution_count": 52,
      "outputs": [
        {
          "output_type": "execute_result",
          "data": {
            "text/html": [
              "<div>\n",
              "<style scoped>\n",
              "    .dataframe tbody tr th:only-of-type {\n",
              "        vertical-align: middle;\n",
              "    }\n",
              "\n",
              "    .dataframe tbody tr th {\n",
              "        vertical-align: top;\n",
              "    }\n",
              "\n",
              "    .dataframe thead th {\n",
              "        text-align: right;\n",
              "    }\n",
              "</style>\n",
              "<table border=\"1\" class=\"dataframe\">\n",
              "  <thead>\n",
              "    <tr style=\"text-align: right;\">\n",
              "      <th></th>\n",
              "      <th>Sepal.Length</th>\n",
              "      <th>Sepal.Width</th>\n",
              "      <th>Petal.Length</th>\n",
              "      <th>Petal.Width</th>\n",
              "      <th>Species</th>\n",
              "    </tr>\n",
              "  </thead>\n",
              "  <tbody>\n",
              "    <tr>\n",
              "      <th>145</th>\n",
              "      <td>6.7</td>\n",
              "      <td>3.0</td>\n",
              "      <td>5.2</td>\n",
              "      <td>2.3</td>\n",
              "      <td>virginica</td>\n",
              "    </tr>\n",
              "    <tr>\n",
              "      <th>146</th>\n",
              "      <td>6.3</td>\n",
              "      <td>2.5</td>\n",
              "      <td>5.0</td>\n",
              "      <td>1.9</td>\n",
              "      <td>virginica</td>\n",
              "    </tr>\n",
              "    <tr>\n",
              "      <th>147</th>\n",
              "      <td>6.5</td>\n",
              "      <td>3.0</td>\n",
              "      <td>5.2</td>\n",
              "      <td>2.0</td>\n",
              "      <td>virginica</td>\n",
              "    </tr>\n",
              "    <tr>\n",
              "      <th>148</th>\n",
              "      <td>6.2</td>\n",
              "      <td>3.4</td>\n",
              "      <td>5.4</td>\n",
              "      <td>2.3</td>\n",
              "      <td>virginica</td>\n",
              "    </tr>\n",
              "    <tr>\n",
              "      <th>149</th>\n",
              "      <td>5.9</td>\n",
              "      <td>3.0</td>\n",
              "      <td>5.1</td>\n",
              "      <td>1.8</td>\n",
              "      <td>virginica</td>\n",
              "    </tr>\n",
              "  </tbody>\n",
              "</table>\n",
              "</div>"
            ],
            "text/plain": [
              "     Sepal.Length  Sepal.Width  Petal.Length  Petal.Width    Species\n",
              "145           6.7          3.0           5.2          2.3  virginica\n",
              "146           6.3          2.5           5.0          1.9  virginica\n",
              "147           6.5          3.0           5.2          2.0  virginica\n",
              "148           6.2          3.4           5.4          2.3  virginica\n",
              "149           5.9          3.0           5.1          1.8  virginica"
            ]
          },
          "metadata": {
            "tags": []
          },
          "execution_count": 52
        }
      ]
    },
    {
      "cell_type": "code",
      "metadata": {
        "id": "zDCr9B2EjwxR",
        "colab_type": "code",
        "outputId": "6807d209-3388-44dd-9f70-16669f96b36f",
        "colab": {
          "base_uri": "https://localhost:8080/",
          "height": 115
        }
      },
      "source": [
        "df.dtypes"
      ],
      "execution_count": 53,
      "outputs": [
        {
          "output_type": "execute_result",
          "data": {
            "text/plain": [
              "Sepal.Length    float64\n",
              "Sepal.Width     float64\n",
              "Petal.Length    float64\n",
              "Petal.Width     float64\n",
              "Species          object\n",
              "dtype: object"
            ]
          },
          "metadata": {
            "tags": []
          },
          "execution_count": 53
        }
      ]
    },
    {
      "cell_type": "code",
      "metadata": {
        "id": "SII0DTTujwxV",
        "colab_type": "code",
        "outputId": "615ea061-45f0-44ae-b1df-3c9409a7e8be",
        "colab": {
          "base_uri": "https://localhost:8080/",
          "height": 66
        }
      },
      "source": [
        "print (\"Column Names:\" , df.columns)"
      ],
      "execution_count": 54,
      "outputs": [
        {
          "output_type": "stream",
          "text": [
            "Column Names: Index(['Sepal.Length', 'Sepal.Width', 'Petal.Length', 'Petal.Width',\n",
            "       'Species'],\n",
            "      dtype='object')\n"
          ],
          "name": "stdout"
        }
      ]
    },
    {
      "cell_type": "code",
      "metadata": {
        "id": "VUGuQpg4jwxY",
        "colab_type": "code",
        "outputId": "ac5171f3-e6d2-41ee-9e70-315776eec97b",
        "colab": {
          "base_uri": "https://localhost:8080/",
          "height": 33
        }
      },
      "source": [
        "print (\"DataFrame Index: \", df.index)"
      ],
      "execution_count": 55,
      "outputs": [
        {
          "output_type": "stream",
          "text": [
            "DataFrame Index:  RangeIndex(start=0, stop=150, step=1)\n"
          ],
          "name": "stdout"
        }
      ]
    },
    {
      "cell_type": "code",
      "metadata": {
        "id": "4LefnWAmjwxc",
        "colab_type": "code",
        "outputId": "d3d1fd40-7c68-48bb-b42f-f468ceed6883",
        "colab": {
          "base_uri": "https://localhost:8080/",
          "height": 1000
        }
      },
      "source": [
        "# Get dataframe values only\n",
        "print (df['Sepal.Length'].values) # for a specific column \n",
        "print (df.values) # entire dataframe"
      ],
      "execution_count": 56,
      "outputs": [
        {
          "output_type": "stream",
          "text": [
            "[5.1 4.9 4.7 4.6 5.  5.4 4.6 5.  4.4 4.9 5.4 4.8 4.8 4.3 5.8 5.7 5.4 5.1\n",
            " 5.7 5.1 5.4 5.1 4.6 5.1 4.8 5.  5.  5.2 5.2 4.7 4.8 5.4 5.2 5.5 4.9 5.\n",
            " 5.5 4.9 4.4 5.1 5.  4.5 4.4 5.  5.1 4.8 5.1 4.6 5.3 5.  7.  6.4 6.9 5.5\n",
            " 6.5 5.7 6.3 4.9 6.6 5.2 5.  5.9 6.  6.1 5.6 6.7 5.6 5.8 6.2 5.6 5.9 6.1\n",
            " 6.3 6.1 6.4 6.6 6.8 6.7 6.  5.7 5.5 5.5 5.8 6.  5.4 6.  6.7 6.3 5.6 5.5\n",
            " 5.5 6.1 5.8 5.  5.6 5.7 5.7 6.2 5.1 5.7 6.3 5.8 7.1 6.3 6.5 7.6 4.9 7.3\n",
            " 6.7 7.2 6.5 6.4 6.8 5.7 5.8 6.4 6.5 7.7 7.7 6.  6.9 5.6 7.7 6.3 6.7 7.2\n",
            " 6.2 6.1 6.4 7.2 7.4 7.9 6.4 6.3 6.1 7.7 6.3 6.4 6.  6.9 6.7 6.9 5.8 6.8\n",
            " 6.7 6.7 6.3 6.5 6.2 5.9]\n",
            "[[5.1 3.5 1.4 0.2 'setosa']\n",
            " [4.9 3.0 1.4 0.2 'setosa']\n",
            " [4.7 3.2 1.3 0.2 'setosa']\n",
            " [4.6 3.1 1.5 0.2 'setosa']\n",
            " [5.0 3.6 1.4 0.2 'setosa']\n",
            " [5.4 3.9 1.7 0.4 'setosa']\n",
            " [4.6 3.4 1.4 0.3 'setosa']\n",
            " [5.0 3.4 1.5 0.2 'setosa']\n",
            " [4.4 2.9 1.4 0.2 'setosa']\n",
            " [4.9 3.1 1.5 0.1 'setosa']\n",
            " [5.4 3.7 1.5 0.2 'setosa']\n",
            " [4.8 3.4 1.6 0.2 'setosa']\n",
            " [4.8 3.0 1.4 0.1 'setosa']\n",
            " [4.3 3.0 1.1 0.1 'setosa']\n",
            " [5.8 4.0 1.2 0.2 'setosa']\n",
            " [5.7 4.4 1.5 0.4 'setosa']\n",
            " [5.4 3.9 1.3 0.4 'setosa']\n",
            " [5.1 3.5 1.4 0.3 'setosa']\n",
            " [5.7 3.8 1.7 0.3 'setosa']\n",
            " [5.1 3.8 1.5 0.3 'setosa']\n",
            " [5.4 3.4 1.7 0.2 'setosa']\n",
            " [5.1 3.7 1.5 0.4 'setosa']\n",
            " [4.6 3.6 1.0 0.2 'setosa']\n",
            " [5.1 3.3 1.7 0.5 'setosa']\n",
            " [4.8 3.4 1.9 0.2 'setosa']\n",
            " [5.0 3.0 1.6 0.2 'setosa']\n",
            " [5.0 3.4 1.6 0.4 'setosa']\n",
            " [5.2 3.5 1.5 0.2 'setosa']\n",
            " [5.2 3.4 1.4 0.2 'setosa']\n",
            " [4.7 3.2 1.6 0.2 'setosa']\n",
            " [4.8 3.1 1.6 0.2 'setosa']\n",
            " [5.4 3.4 1.5 0.4 'setosa']\n",
            " [5.2 4.1 1.5 0.1 'setosa']\n",
            " [5.5 4.2 1.4 0.2 'setosa']\n",
            " [4.9 3.1 1.5 0.2 'setosa']\n",
            " [5.0 3.2 1.2 0.2 'setosa']\n",
            " [5.5 3.5 1.3 0.2 'setosa']\n",
            " [4.9 3.6 1.4 0.1 'setosa']\n",
            " [4.4 3.0 1.3 0.2 'setosa']\n",
            " [5.1 3.4 1.5 0.2 'setosa']\n",
            " [5.0 3.5 1.3 0.3 'setosa']\n",
            " [4.5 2.3 1.3 0.3 'setosa']\n",
            " [4.4 3.2 1.3 0.2 'setosa']\n",
            " [5.0 3.5 1.6 0.6 'setosa']\n",
            " [5.1 3.8 1.9 0.4 'setosa']\n",
            " [4.8 3.0 1.4 0.3 'setosa']\n",
            " [5.1 3.8 1.6 0.2 'setosa']\n",
            " [4.6 3.2 1.4 0.2 'setosa']\n",
            " [5.3 3.7 1.5 0.2 'setosa']\n",
            " [5.0 3.3 1.4 0.2 'setosa']\n",
            " [7.0 3.2 4.7 1.4 'versicolor']\n",
            " [6.4 3.2 4.5 1.5 'versicolor']\n",
            " [6.9 3.1 4.9 1.5 'versicolor']\n",
            " [5.5 2.3 4.0 1.3 'versicolor']\n",
            " [6.5 2.8 4.6 1.5 'versicolor']\n",
            " [5.7 2.8 4.5 1.3 'versicolor']\n",
            " [6.3 3.3 4.7 1.6 'versicolor']\n",
            " [4.9 2.4 3.3 1.0 'versicolor']\n",
            " [6.6 2.9 4.6 1.3 'versicolor']\n",
            " [5.2 2.7 3.9 1.4 'versicolor']\n",
            " [5.0 2.0 3.5 1.0 'versicolor']\n",
            " [5.9 3.0 4.2 1.5 'versicolor']\n",
            " [6.0 2.2 4.0 1.0 'versicolor']\n",
            " [6.1 2.9 4.7 1.4 'versicolor']\n",
            " [5.6 2.9 3.6 1.3 'versicolor']\n",
            " [6.7 3.1 4.4 1.4 'versicolor']\n",
            " [5.6 3.0 4.5 1.5 'versicolor']\n",
            " [5.8 2.7 4.1 1.0 'versicolor']\n",
            " [6.2 2.2 4.5 1.5 'versicolor']\n",
            " [5.6 2.5 3.9 1.1 'versicolor']\n",
            " [5.9 3.2 4.8 1.8 'versicolor']\n",
            " [6.1 2.8 4.0 1.3 'versicolor']\n",
            " [6.3 2.5 4.9 1.5 'versicolor']\n",
            " [6.1 2.8 4.7 1.2 'versicolor']\n",
            " [6.4 2.9 4.3 1.3 'versicolor']\n",
            " [6.6 3.0 4.4 1.4 'versicolor']\n",
            " [6.8 2.8 4.8 1.4 'versicolor']\n",
            " [6.7 3.0 5.0 1.7 'versicolor']\n",
            " [6.0 2.9 4.5 1.5 'versicolor']\n",
            " [5.7 2.6 3.5 1.0 'versicolor']\n",
            " [5.5 2.4 3.8 1.1 'versicolor']\n",
            " [5.5 2.4 3.7 1.0 'versicolor']\n",
            " [5.8 2.7 3.9 1.2 'versicolor']\n",
            " [6.0 2.7 5.1 1.6 'versicolor']\n",
            " [5.4 3.0 4.5 1.5 'versicolor']\n",
            " [6.0 3.4 4.5 1.6 'versicolor']\n",
            " [6.7 3.1 4.7 1.5 'versicolor']\n",
            " [6.3 2.3 4.4 1.3 'versicolor']\n",
            " [5.6 3.0 4.1 1.3 'versicolor']\n",
            " [5.5 2.5 4.0 1.3 'versicolor']\n",
            " [5.5 2.6 4.4 1.2 'versicolor']\n",
            " [6.1 3.0 4.6 1.4 'versicolor']\n",
            " [5.8 2.6 4.0 1.2 'versicolor']\n",
            " [5.0 2.3 3.3 1.0 'versicolor']\n",
            " [5.6 2.7 4.2 1.3 'versicolor']\n",
            " [5.7 3.0 4.2 1.2 'versicolor']\n",
            " [5.7 2.9 4.2 1.3 'versicolor']\n",
            " [6.2 2.9 4.3 1.3 'versicolor']\n",
            " [5.1 2.5 3.0 1.1 'versicolor']\n",
            " [5.7 2.8 4.1 1.3 'versicolor']\n",
            " [6.3 3.3 6.0 2.5 'virginica']\n",
            " [5.8 2.7 5.1 1.9 'virginica']\n",
            " [7.1 3.0 5.9 2.1 'virginica']\n",
            " [6.3 2.9 5.6 1.8 'virginica']\n",
            " [6.5 3.0 5.8 2.2 'virginica']\n",
            " [7.6 3.0 6.6 2.1 'virginica']\n",
            " [4.9 2.5 4.5 1.7 'virginica']\n",
            " [7.3 2.9 6.3 1.8 'virginica']\n",
            " [6.7 2.5 5.8 1.8 'virginica']\n",
            " [7.2 3.6 6.1 2.5 'virginica']\n",
            " [6.5 3.2 5.1 2.0 'virginica']\n",
            " [6.4 2.7 5.3 1.9 'virginica']\n",
            " [6.8 3.0 5.5 2.1 'virginica']\n",
            " [5.7 2.5 5.0 2.0 'virginica']\n",
            " [5.8 2.8 5.1 2.4 'virginica']\n",
            " [6.4 3.2 5.3 2.3 'virginica']\n",
            " [6.5 3.0 5.5 1.8 'virginica']\n",
            " [7.7 3.8 6.7 2.2 'virginica']\n",
            " [7.7 2.6 6.9 2.3 'virginica']\n",
            " [6.0 2.2 5.0 1.5 'virginica']\n",
            " [6.9 3.2 5.7 2.3 'virginica']\n",
            " [5.6 2.8 4.9 2.0 'virginica']\n",
            " [7.7 2.8 6.7 2.0 'virginica']\n",
            " [6.3 2.7 4.9 1.8 'virginica']\n",
            " [6.7 3.3 5.7 2.1 'virginica']\n",
            " [7.2 3.2 6.0 1.8 'virginica']\n",
            " [6.2 2.8 4.8 1.8 'virginica']\n",
            " [6.1 3.0 4.9 1.8 'virginica']\n",
            " [6.4 2.8 5.6 2.1 'virginica']\n",
            " [7.2 3.0 5.8 1.6 'virginica']\n",
            " [7.4 2.8 6.1 1.9 'virginica']\n",
            " [7.9 3.8 6.4 2.0 'virginica']\n",
            " [6.4 2.8 5.6 2.2 'virginica']\n",
            " [6.3 2.8 5.1 1.5 'virginica']\n",
            " [6.1 2.6 5.6 1.4 'virginica']\n",
            " [7.7 3.0 6.1 2.3 'virginica']\n",
            " [6.3 3.4 5.6 2.4 'virginica']\n",
            " [6.4 3.1 5.5 1.8 'virginica']\n",
            " [6.0 3.0 4.8 1.8 'virginica']\n",
            " [6.9 3.1 5.4 2.1 'virginica']\n",
            " [6.7 3.1 5.6 2.4 'virginica']\n",
            " [6.9 3.1 5.1 2.3 'virginica']\n",
            " [5.8 2.7 5.1 1.9 'virginica']\n",
            " [6.8 3.2 5.9 2.3 'virginica']\n",
            " [6.7 3.3 5.7 2.5 'virginica']\n",
            " [6.7 3.0 5.2 2.3 'virginica']\n",
            " [6.3 2.5 5.0 1.9 'virginica']\n",
            " [6.5 3.0 5.2 2.0 'virginica']\n",
            " [6.2 3.4 5.4 2.3 'virginica']\n",
            " [5.9 3.0 5.1 1.8 'virginica']]\n"
          ],
          "name": "stdout"
        }
      ]
    },
    {
      "cell_type": "code",
      "metadata": {
        "id": "7gnjVrptjwxf",
        "colab_type": "code",
        "outputId": "9d4ccfdc-a4c0-4e00-a8ca-440fc4fb6547",
        "colab": {
          "base_uri": "https://localhost:8080/",
          "height": 33
        }
      },
      "source": [
        "# identify unique values of a column\n",
        "df['Species'].unique()"
      ],
      "execution_count": 57,
      "outputs": [
        {
          "output_type": "execute_result",
          "data": {
            "text/plain": [
              "array(['setosa', 'versicolor', 'virginica'], dtype=object)"
            ]
          },
          "metadata": {
            "tags": []
          },
          "execution_count": 57
        }
      ]
    },
    {
      "cell_type": "code",
      "metadata": {
        "id": "9sdWnOvgjwxi",
        "colab_type": "code",
        "outputId": "411ba6aa-13f9-4eb7-9f30-170865684805",
        "colab": {
          "base_uri": "https://localhost:8080/",
          "height": 391
        }
      },
      "source": [
        "# Sort your dataframe\n",
        "df.sort_values(by =['Species', 'Sepal.Length'], ascending=[True,True])"
      ],
      "execution_count": 58,
      "outputs": [
        {
          "output_type": "execute_result",
          "data": {
            "text/html": [
              "<div>\n",
              "<style scoped>\n",
              "    .dataframe tbody tr th:only-of-type {\n",
              "        vertical-align: middle;\n",
              "    }\n",
              "\n",
              "    .dataframe tbody tr th {\n",
              "        vertical-align: top;\n",
              "    }\n",
              "\n",
              "    .dataframe thead th {\n",
              "        text-align: right;\n",
              "    }\n",
              "</style>\n",
              "<table border=\"1\" class=\"dataframe\">\n",
              "  <thead>\n",
              "    <tr style=\"text-align: right;\">\n",
              "      <th></th>\n",
              "      <th>Sepal.Length</th>\n",
              "      <th>Sepal.Width</th>\n",
              "      <th>Petal.Length</th>\n",
              "      <th>Petal.Width</th>\n",
              "      <th>Species</th>\n",
              "    </tr>\n",
              "  </thead>\n",
              "  <tbody>\n",
              "    <tr>\n",
              "      <th>13</th>\n",
              "      <td>4.3</td>\n",
              "      <td>3.0</td>\n",
              "      <td>1.1</td>\n",
              "      <td>0.1</td>\n",
              "      <td>setosa</td>\n",
              "    </tr>\n",
              "    <tr>\n",
              "      <th>8</th>\n",
              "      <td>4.4</td>\n",
              "      <td>2.9</td>\n",
              "      <td>1.4</td>\n",
              "      <td>0.2</td>\n",
              "      <td>setosa</td>\n",
              "    </tr>\n",
              "    <tr>\n",
              "      <th>38</th>\n",
              "      <td>4.4</td>\n",
              "      <td>3.0</td>\n",
              "      <td>1.3</td>\n",
              "      <td>0.2</td>\n",
              "      <td>setosa</td>\n",
              "    </tr>\n",
              "    <tr>\n",
              "      <th>42</th>\n",
              "      <td>4.4</td>\n",
              "      <td>3.2</td>\n",
              "      <td>1.3</td>\n",
              "      <td>0.2</td>\n",
              "      <td>setosa</td>\n",
              "    </tr>\n",
              "    <tr>\n",
              "      <th>41</th>\n",
              "      <td>4.5</td>\n",
              "      <td>2.3</td>\n",
              "      <td>1.3</td>\n",
              "      <td>0.3</td>\n",
              "      <td>setosa</td>\n",
              "    </tr>\n",
              "    <tr>\n",
              "      <th>...</th>\n",
              "      <td>...</td>\n",
              "      <td>...</td>\n",
              "      <td>...</td>\n",
              "      <td>...</td>\n",
              "      <td>...</td>\n",
              "    </tr>\n",
              "    <tr>\n",
              "      <th>117</th>\n",
              "      <td>7.7</td>\n",
              "      <td>3.8</td>\n",
              "      <td>6.7</td>\n",
              "      <td>2.2</td>\n",
              "      <td>virginica</td>\n",
              "    </tr>\n",
              "    <tr>\n",
              "      <th>118</th>\n",
              "      <td>7.7</td>\n",
              "      <td>2.6</td>\n",
              "      <td>6.9</td>\n",
              "      <td>2.3</td>\n",
              "      <td>virginica</td>\n",
              "    </tr>\n",
              "    <tr>\n",
              "      <th>122</th>\n",
              "      <td>7.7</td>\n",
              "      <td>2.8</td>\n",
              "      <td>6.7</td>\n",
              "      <td>2.0</td>\n",
              "      <td>virginica</td>\n",
              "    </tr>\n",
              "    <tr>\n",
              "      <th>135</th>\n",
              "      <td>7.7</td>\n",
              "      <td>3.0</td>\n",
              "      <td>6.1</td>\n",
              "      <td>2.3</td>\n",
              "      <td>virginica</td>\n",
              "    </tr>\n",
              "    <tr>\n",
              "      <th>131</th>\n",
              "      <td>7.9</td>\n",
              "      <td>3.8</td>\n",
              "      <td>6.4</td>\n",
              "      <td>2.0</td>\n",
              "      <td>virginica</td>\n",
              "    </tr>\n",
              "  </tbody>\n",
              "</table>\n",
              "<p>150 rows × 5 columns</p>\n",
              "</div>"
            ],
            "text/plain": [
              "     Sepal.Length  Sepal.Width  Petal.Length  Petal.Width    Species\n",
              "13            4.3          3.0           1.1          0.1     setosa\n",
              "8             4.4          2.9           1.4          0.2     setosa\n",
              "38            4.4          3.0           1.3          0.2     setosa\n",
              "42            4.4          3.2           1.3          0.2     setosa\n",
              "41            4.5          2.3           1.3          0.3     setosa\n",
              "..            ...          ...           ...          ...        ...\n",
              "117           7.7          3.8           6.7          2.2  virginica\n",
              "118           7.7          2.6           6.9          2.3  virginica\n",
              "122           7.7          2.8           6.7          2.0  virginica\n",
              "135           7.7          3.0           6.1          2.3  virginica\n",
              "131           7.9          3.8           6.4          2.0  virginica\n",
              "\n",
              "[150 rows x 5 columns]"
            ]
          },
          "metadata": {
            "tags": []
          },
          "execution_count": 58
        }
      ]
    },
    {
      "cell_type": "code",
      "metadata": {
        "id": "MinL03AWjwxk",
        "colab_type": "code",
        "outputId": "609ede6e-9827-4276-fb39-0b60acc21a3c",
        "colab": {}
      },
      "source": [
        "# selection/view by column name\n",
        "df['Species']"
      ],
      "execution_count": 0,
      "outputs": [
        {
          "output_type": "execute_result",
          "data": {
            "text/plain": [
              "0         setosa\n",
              "1         setosa\n",
              "2         setosa\n",
              "3         setosa\n",
              "4         setosa\n",
              "5         setosa\n",
              "6         setosa\n",
              "7         setosa\n",
              "8         setosa\n",
              "9         setosa\n",
              "10        setosa\n",
              "11        setosa\n",
              "12        setosa\n",
              "13        setosa\n",
              "14        setosa\n",
              "15        setosa\n",
              "16        setosa\n",
              "17        setosa\n",
              "18        setosa\n",
              "19        setosa\n",
              "20        setosa\n",
              "21        setosa\n",
              "22        setosa\n",
              "23        setosa\n",
              "24        setosa\n",
              "25        setosa\n",
              "26        setosa\n",
              "27        setosa\n",
              "28        setosa\n",
              "29        setosa\n",
              "         ...    \n",
              "120    virginica\n",
              "121    virginica\n",
              "122    virginica\n",
              "123    virginica\n",
              "124    virginica\n",
              "125    virginica\n",
              "126    virginica\n",
              "127    virginica\n",
              "128    virginica\n",
              "129    virginica\n",
              "130    virginica\n",
              "131    virginica\n",
              "132    virginica\n",
              "133    virginica\n",
              "134    virginica\n",
              "135    virginica\n",
              "136    virginica\n",
              "137    virginica\n",
              "138    virginica\n",
              "139    virginica\n",
              "140    virginica\n",
              "141    virginica\n",
              "142    virginica\n",
              "143    virginica\n",
              "144    virginica\n",
              "145    virginica\n",
              "146    virginica\n",
              "147    virginica\n",
              "148    virginica\n",
              "149    virginica\n",
              "Name: Species, Length: 150, dtype: object"
            ]
          },
          "metadata": {
            "tags": []
          },
          "execution_count": 19
        }
      ]
    },
    {
      "cell_type": "code",
      "metadata": {
        "id": "nSuDOeZpjwxn",
        "colab_type": "code",
        "outputId": "eaeb3ee1-e5e0-4958-b4dc-274290c825e9",
        "colab": {}
      },
      "source": [
        "# selection by row numbers\n",
        "df[0:3]"
      ],
      "execution_count": 0,
      "outputs": [
        {
          "output_type": "execute_result",
          "data": {
            "text/html": [
              "<div>\n",
              "<style scoped>\n",
              "    .dataframe tbody tr th:only-of-type {\n",
              "        vertical-align: middle;\n",
              "    }\n",
              "\n",
              "    .dataframe tbody tr th {\n",
              "        vertical-align: top;\n",
              "    }\n",
              "\n",
              "    .dataframe thead th {\n",
              "        text-align: right;\n",
              "    }\n",
              "</style>\n",
              "<table border=\"1\" class=\"dataframe\">\n",
              "  <thead>\n",
              "    <tr style=\"text-align: right;\">\n",
              "      <th></th>\n",
              "      <th>Sepal.Length</th>\n",
              "      <th>Sepal.Width</th>\n",
              "      <th>Petal.Length</th>\n",
              "      <th>Petal.Width</th>\n",
              "      <th>Species</th>\n",
              "    </tr>\n",
              "  </thead>\n",
              "  <tbody>\n",
              "    <tr>\n",
              "      <th>0</th>\n",
              "      <td>5.1</td>\n",
              "      <td>3.5</td>\n",
              "      <td>1.4</td>\n",
              "      <td>0.2</td>\n",
              "      <td>setosa</td>\n",
              "    </tr>\n",
              "    <tr>\n",
              "      <th>1</th>\n",
              "      <td>4.9</td>\n",
              "      <td>3.0</td>\n",
              "      <td>1.4</td>\n",
              "      <td>0.2</td>\n",
              "      <td>setosa</td>\n",
              "    </tr>\n",
              "    <tr>\n",
              "      <th>2</th>\n",
              "      <td>4.7</td>\n",
              "      <td>3.2</td>\n",
              "      <td>1.3</td>\n",
              "      <td>0.2</td>\n",
              "      <td>setosa</td>\n",
              "    </tr>\n",
              "  </tbody>\n",
              "</table>\n",
              "</div>"
            ],
            "text/plain": [
              "   Sepal.Length  Sepal.Width  Petal.Length  Petal.Width Species\n",
              "0           5.1          3.5           1.4          0.2  setosa\n",
              "1           4.9          3.0           1.4          0.2  setosa\n",
              "2           4.7          3.2           1.3          0.2  setosa"
            ]
          },
          "metadata": {
            "tags": []
          },
          "execution_count": 20
        }
      ]
    },
    {
      "cell_type": "markdown",
      "metadata": {
        "id": "yk1ObNfijwxq",
        "colab_type": "text"
      },
      "source": [
        "#### Different selection by lable options\n",
        "* loc: only work on index\n",
        "* iloc: work on position\n",
        "* iat: Get scalar values. It's a very fast iloc"
      ]
    },
    {
      "cell_type": "code",
      "metadata": {
        "id": "6GFV7RhMjwxq",
        "colab_type": "code",
        "outputId": "f5eb1634-b681-44dd-bb08-816a31831838",
        "colab": {}
      },
      "source": [
        "# selection by index\n",
        "print (df.loc[0:2])\n",
        "\n",
        "# selection by index of specific lable names\n",
        "print (df.loc[0:3,['Species','Petal.Width']])"
      ],
      "execution_count": 0,
      "outputs": [
        {
          "output_type": "stream",
          "text": [
            "   Sepal.Length  Sepal.Width  Petal.Length  Petal.Width Species\n",
            "0           5.1          3.5           1.4          0.2  setosa\n",
            "1           4.9          3.0           1.4          0.2  setosa\n",
            "2           4.7          3.2           1.3          0.2  setosa\n",
            "  Species  Petal.Width\n",
            "0  setosa          0.2\n",
            "1  setosa          0.2\n",
            "2  setosa          0.2\n",
            "3  setosa          0.2\n"
          ],
          "name": "stdout"
        }
      ]
    },
    {
      "cell_type": "code",
      "metadata": {
        "id": "uaWN23o1jwxu",
        "colab_type": "code",
        "outputId": "4d00c634-27ba-45ba-b844-7f8fc7100bc4",
        "colab": {}
      },
      "source": [
        "# Selection by poisition\n",
        "print (df.iloc[0:2])"
      ],
      "execution_count": 0,
      "outputs": [
        {
          "output_type": "stream",
          "text": [
            "   Sepal.Length  Sepal.Width  Petal.Length  Petal.Width Species\n",
            "0           5.1          3.5           1.4          0.2  setosa\n",
            "1           4.9          3.0           1.4          0.2  setosa\n"
          ],
          "name": "stdout"
        }
      ]
    },
    {
      "cell_type": "code",
      "metadata": {
        "id": "VgJ0ahQDjwxw",
        "colab_type": "code",
        "outputId": "207fa64b-f80a-4efd-ce02-8c7a1cfc4c66",
        "colab": {}
      },
      "source": [
        "# Selection by poisition between given rows as range\n",
        "df.iloc[0:2,0:2]"
      ],
      "execution_count": 0,
      "outputs": [
        {
          "output_type": "execute_result",
          "data": {
            "text/html": [
              "<div>\n",
              "<style scoped>\n",
              "    .dataframe tbody tr th:only-of-type {\n",
              "        vertical-align: middle;\n",
              "    }\n",
              "\n",
              "    .dataframe tbody tr th {\n",
              "        vertical-align: top;\n",
              "    }\n",
              "\n",
              "    .dataframe thead th {\n",
              "        text-align: right;\n",
              "    }\n",
              "</style>\n",
              "<table border=\"1\" class=\"dataframe\">\n",
              "  <thead>\n",
              "    <tr style=\"text-align: right;\">\n",
              "      <th></th>\n",
              "      <th>Sepal.Length</th>\n",
              "      <th>Sepal.Width</th>\n",
              "    </tr>\n",
              "  </thead>\n",
              "  <tbody>\n",
              "    <tr>\n",
              "      <th>0</th>\n",
              "      <td>5.1</td>\n",
              "      <td>3.5</td>\n",
              "    </tr>\n",
              "    <tr>\n",
              "      <th>1</th>\n",
              "      <td>4.9</td>\n",
              "      <td>3.0</td>\n",
              "    </tr>\n",
              "  </tbody>\n",
              "</table>\n",
              "</div>"
            ],
            "text/plain": [
              "   Sepal.Length  Sepal.Width\n",
              "0           5.1          3.5\n",
              "1           4.9          3.0"
            ]
          },
          "metadata": {
            "tags": []
          },
          "execution_count": 23
        }
      ]
    },
    {
      "cell_type": "code",
      "metadata": {
        "id": "aI99ZDPfjwx0",
        "colab_type": "code",
        "outputId": "77f334e1-fced-4144-9839-e70081d8ffff",
        "colab": {}
      },
      "source": [
        "# selection by position between given specific row numbers\n",
        "df.iloc[[1,2,4],[0,2]]"
      ],
      "execution_count": 0,
      "outputs": [
        {
          "output_type": "execute_result",
          "data": {
            "text/html": [
              "<div>\n",
              "<style scoped>\n",
              "    .dataframe tbody tr th:only-of-type {\n",
              "        vertical-align: middle;\n",
              "    }\n",
              "\n",
              "    .dataframe tbody tr th {\n",
              "        vertical-align: top;\n",
              "    }\n",
              "\n",
              "    .dataframe thead th {\n",
              "        text-align: right;\n",
              "    }\n",
              "</style>\n",
              "<table border=\"1\" class=\"dataframe\">\n",
              "  <thead>\n",
              "    <tr style=\"text-align: right;\">\n",
              "      <th></th>\n",
              "      <th>Sepal.Length</th>\n",
              "      <th>Petal.Length</th>\n",
              "    </tr>\n",
              "  </thead>\n",
              "  <tbody>\n",
              "    <tr>\n",
              "      <th>1</th>\n",
              "      <td>4.9</td>\n",
              "      <td>1.4</td>\n",
              "    </tr>\n",
              "    <tr>\n",
              "      <th>2</th>\n",
              "      <td>4.7</td>\n",
              "      <td>1.3</td>\n",
              "    </tr>\n",
              "    <tr>\n",
              "      <th>4</th>\n",
              "      <td>5.0</td>\n",
              "      <td>1.4</td>\n",
              "    </tr>\n",
              "  </tbody>\n",
              "</table>\n",
              "</div>"
            ],
            "text/plain": [
              "   Sepal.Length  Petal.Length\n",
              "1           4.9           1.4\n",
              "2           4.7           1.3\n",
              "4           5.0           1.4"
            ]
          },
          "metadata": {
            "tags": []
          },
          "execution_count": 24
        }
      ]
    },
    {
      "cell_type": "code",
      "metadata": {
        "id": "1hIeI8qpNmlS",
        "colab_type": "code",
        "colab": {}
      },
      "source": [
        ""
      ],
      "execution_count": 0,
      "outputs": []
    },
    {
      "cell_type": "code",
      "metadata": {
        "id": "EqJsWT0sjwx2",
        "colab_type": "code",
        "outputId": "37af1624-9c08-4320-abc8-aa510118af9a",
        "colab": {
          "base_uri": "https://localhost:8080/",
          "height": 277
        }
      },
      "source": [
        "# selectcion by row and column index (index starts with 0). \n",
        "# Below case will fetch the [first row index, first column index] value\n",
        "print (df.iat[1,1])  # Get scalar values. It's a very fast iloc\n",
        "print('hello')\n",
        "print(df.iloc[1,1]) #Get data from dataframe without it being in the index\n",
        "print('hello')\n",
        "print(df.iloc[:,2]) # select column by position\n"
      ],
      "execution_count": 61,
      "outputs": [
        {
          "output_type": "stream",
          "text": [
            "3.0\n",
            "hello\n",
            "3.0\n",
            "hello\n",
            "0      1.4\n",
            "1      1.4\n",
            "2      1.3\n",
            "3      1.5\n",
            "4      1.4\n",
            "      ... \n",
            "145    5.2\n",
            "146    5.0\n",
            "147    5.2\n",
            "148    5.4\n",
            "149    5.1\n",
            "Name: Petal.Length, Length: 150, dtype: float64\n"
          ],
          "name": "stdout"
        }
      ]
    },
    {
      "cell_type": "code",
      "metadata": {
        "id": "gvzNoX7mjwx6",
        "colab_type": "code",
        "outputId": "5c6c9fc2-9f99-4e78-a92b-30fbf8651e80",
        "colab": {}
      },
      "source": [
        "# Transpose dataframe\n",
        "df.T"
      ],
      "execution_count": 0,
      "outputs": [
        {
          "output_type": "execute_result",
          "data": {
            "text/html": [
              "<div>\n",
              "<style scoped>\n",
              "    .dataframe tbody tr th:only-of-type {\n",
              "        vertical-align: middle;\n",
              "    }\n",
              "\n",
              "    .dataframe tbody tr th {\n",
              "        vertical-align: top;\n",
              "    }\n",
              "\n",
              "    .dataframe thead th {\n",
              "        text-align: right;\n",
              "    }\n",
              "</style>\n",
              "<table border=\"1\" class=\"dataframe\">\n",
              "  <thead>\n",
              "    <tr style=\"text-align: right;\">\n",
              "      <th></th>\n",
              "      <th>0</th>\n",
              "      <th>1</th>\n",
              "      <th>2</th>\n",
              "      <th>3</th>\n",
              "      <th>4</th>\n",
              "      <th>5</th>\n",
              "      <th>6</th>\n",
              "      <th>7</th>\n",
              "      <th>8</th>\n",
              "      <th>9</th>\n",
              "      <th>...</th>\n",
              "      <th>140</th>\n",
              "      <th>141</th>\n",
              "      <th>142</th>\n",
              "      <th>143</th>\n",
              "      <th>144</th>\n",
              "      <th>145</th>\n",
              "      <th>146</th>\n",
              "      <th>147</th>\n",
              "      <th>148</th>\n",
              "      <th>149</th>\n",
              "    </tr>\n",
              "  </thead>\n",
              "  <tbody>\n",
              "    <tr>\n",
              "      <th>Sepal.Length</th>\n",
              "      <td>5.1</td>\n",
              "      <td>4.9</td>\n",
              "      <td>4.7</td>\n",
              "      <td>4.6</td>\n",
              "      <td>5</td>\n",
              "      <td>5.4</td>\n",
              "      <td>4.6</td>\n",
              "      <td>5</td>\n",
              "      <td>4.4</td>\n",
              "      <td>4.9</td>\n",
              "      <td>...</td>\n",
              "      <td>6.7</td>\n",
              "      <td>6.9</td>\n",
              "      <td>5.8</td>\n",
              "      <td>6.8</td>\n",
              "      <td>6.7</td>\n",
              "      <td>6.7</td>\n",
              "      <td>6.3</td>\n",
              "      <td>6.5</td>\n",
              "      <td>6.2</td>\n",
              "      <td>5.9</td>\n",
              "    </tr>\n",
              "    <tr>\n",
              "      <th>Sepal.Width</th>\n",
              "      <td>3.5</td>\n",
              "      <td>3</td>\n",
              "      <td>3.2</td>\n",
              "      <td>3.1</td>\n",
              "      <td>3.6</td>\n",
              "      <td>3.9</td>\n",
              "      <td>3.4</td>\n",
              "      <td>3.4</td>\n",
              "      <td>2.9</td>\n",
              "      <td>3.1</td>\n",
              "      <td>...</td>\n",
              "      <td>3.1</td>\n",
              "      <td>3.1</td>\n",
              "      <td>2.7</td>\n",
              "      <td>3.2</td>\n",
              "      <td>3.3</td>\n",
              "      <td>3</td>\n",
              "      <td>2.5</td>\n",
              "      <td>3</td>\n",
              "      <td>3.4</td>\n",
              "      <td>3</td>\n",
              "    </tr>\n",
              "    <tr>\n",
              "      <th>Petal.Length</th>\n",
              "      <td>1.4</td>\n",
              "      <td>1.4</td>\n",
              "      <td>1.3</td>\n",
              "      <td>1.5</td>\n",
              "      <td>1.4</td>\n",
              "      <td>1.7</td>\n",
              "      <td>1.4</td>\n",
              "      <td>1.5</td>\n",
              "      <td>1.4</td>\n",
              "      <td>1.5</td>\n",
              "      <td>...</td>\n",
              "      <td>5.6</td>\n",
              "      <td>5.1</td>\n",
              "      <td>5.1</td>\n",
              "      <td>5.9</td>\n",
              "      <td>5.7</td>\n",
              "      <td>5.2</td>\n",
              "      <td>5</td>\n",
              "      <td>5.2</td>\n",
              "      <td>5.4</td>\n",
              "      <td>5.1</td>\n",
              "    </tr>\n",
              "    <tr>\n",
              "      <th>Petal.Width</th>\n",
              "      <td>0.2</td>\n",
              "      <td>0.2</td>\n",
              "      <td>0.2</td>\n",
              "      <td>0.2</td>\n",
              "      <td>0.2</td>\n",
              "      <td>0.4</td>\n",
              "      <td>0.3</td>\n",
              "      <td>0.2</td>\n",
              "      <td>0.2</td>\n",
              "      <td>0.1</td>\n",
              "      <td>...</td>\n",
              "      <td>2.4</td>\n",
              "      <td>2.3</td>\n",
              "      <td>1.9</td>\n",
              "      <td>2.3</td>\n",
              "      <td>2.5</td>\n",
              "      <td>2.3</td>\n",
              "      <td>1.9</td>\n",
              "      <td>2</td>\n",
              "      <td>2.3</td>\n",
              "      <td>1.8</td>\n",
              "    </tr>\n",
              "    <tr>\n",
              "      <th>Species</th>\n",
              "      <td>setosa</td>\n",
              "      <td>setosa</td>\n",
              "      <td>setosa</td>\n",
              "      <td>setosa</td>\n",
              "      <td>setosa</td>\n",
              "      <td>setosa</td>\n",
              "      <td>setosa</td>\n",
              "      <td>setosa</td>\n",
              "      <td>setosa</td>\n",
              "      <td>setosa</td>\n",
              "      <td>...</td>\n",
              "      <td>virginica</td>\n",
              "      <td>virginica</td>\n",
              "      <td>virginica</td>\n",
              "      <td>virginica</td>\n",
              "      <td>virginica</td>\n",
              "      <td>virginica</td>\n",
              "      <td>virginica</td>\n",
              "      <td>virginica</td>\n",
              "      <td>virginica</td>\n",
              "      <td>virginica</td>\n",
              "    </tr>\n",
              "  </tbody>\n",
              "</table>\n",
              "<p>5 rows × 150 columns</p>\n",
              "</div>"
            ],
            "text/plain": [
              "                 0       1       2       3       4       5       6       7    \\\n",
              "Sepal.Length     5.1     4.9     4.7     4.6       5     5.4     4.6       5   \n",
              "Sepal.Width      3.5       3     3.2     3.1     3.6     3.9     3.4     3.4   \n",
              "Petal.Length     1.4     1.4     1.3     1.5     1.4     1.7     1.4     1.5   \n",
              "Petal.Width      0.2     0.2     0.2     0.2     0.2     0.4     0.3     0.2   \n",
              "Species       setosa  setosa  setosa  setosa  setosa  setosa  setosa  setosa   \n",
              "\n",
              "                 8       9      ...            140        141        142  \\\n",
              "Sepal.Length     4.4     4.9    ...            6.7        6.9        5.8   \n",
              "Sepal.Width      2.9     3.1    ...            3.1        3.1        2.7   \n",
              "Petal.Length     1.4     1.5    ...            5.6        5.1        5.1   \n",
              "Petal.Width      0.2     0.1    ...            2.4        2.3        1.9   \n",
              "Species       setosa  setosa    ...      virginica  virginica  virginica   \n",
              "\n",
              "                    143        144        145        146        147  \\\n",
              "Sepal.Length        6.8        6.7        6.7        6.3        6.5   \n",
              "Sepal.Width         3.2        3.3          3        2.5          3   \n",
              "Petal.Length        5.9        5.7        5.2          5        5.2   \n",
              "Petal.Width         2.3        2.5        2.3        1.9          2   \n",
              "Species       virginica  virginica  virginica  virginica  virginica   \n",
              "\n",
              "                    148        149  \n",
              "Sepal.Length        6.2        5.9  \n",
              "Sepal.Width         3.4          3  \n",
              "Petal.Length        5.4        5.1  \n",
              "Petal.Width         2.3        1.8  \n",
              "Species       virginica  virginica  \n",
              "\n",
              "[5 rows x 150 columns]"
            ]
          },
          "metadata": {
            "tags": []
          },
          "execution_count": 26
        }
      ]
    },
    {
      "cell_type": "markdown",
      "metadata": {
        "id": "xWf6gTNpjwx9",
        "colab_type": "text"
      },
      "source": [
        "### Boolean Indexing"
      ]
    },
    {
      "cell_type": "code",
      "metadata": {
        "id": "aAUHXT1-jwx-",
        "colab_type": "code",
        "outputId": "53e6fc60-94de-4ed1-82f6-8a625e0882ee",
        "colab": {}
      },
      "source": [
        "# Filter dataframe based on a value condition on one column\n",
        "\n",
        "df[df['Sepal.Length'] > 7.5]"
      ],
      "execution_count": 0,
      "outputs": [
        {
          "output_type": "execute_result",
          "data": {
            "text/html": [
              "<div>\n",
              "<style scoped>\n",
              "    .dataframe tbody tr th:only-of-type {\n",
              "        vertical-align: middle;\n",
              "    }\n",
              "\n",
              "    .dataframe tbody tr th {\n",
              "        vertical-align: top;\n",
              "    }\n",
              "\n",
              "    .dataframe thead th {\n",
              "        text-align: right;\n",
              "    }\n",
              "</style>\n",
              "<table border=\"1\" class=\"dataframe\">\n",
              "  <thead>\n",
              "    <tr style=\"text-align: right;\">\n",
              "      <th></th>\n",
              "      <th>Sepal.Length</th>\n",
              "      <th>Sepal.Width</th>\n",
              "      <th>Petal.Length</th>\n",
              "      <th>Petal.Width</th>\n",
              "      <th>Species</th>\n",
              "    </tr>\n",
              "  </thead>\n",
              "  <tbody>\n",
              "    <tr>\n",
              "      <th>105</th>\n",
              "      <td>7.6</td>\n",
              "      <td>3.0</td>\n",
              "      <td>6.6</td>\n",
              "      <td>2.1</td>\n",
              "      <td>virginica</td>\n",
              "    </tr>\n",
              "    <tr>\n",
              "      <th>117</th>\n",
              "      <td>7.7</td>\n",
              "      <td>3.8</td>\n",
              "      <td>6.7</td>\n",
              "      <td>2.2</td>\n",
              "      <td>virginica</td>\n",
              "    </tr>\n",
              "    <tr>\n",
              "      <th>118</th>\n",
              "      <td>7.7</td>\n",
              "      <td>2.6</td>\n",
              "      <td>6.9</td>\n",
              "      <td>2.3</td>\n",
              "      <td>virginica</td>\n",
              "    </tr>\n",
              "    <tr>\n",
              "      <th>122</th>\n",
              "      <td>7.7</td>\n",
              "      <td>2.8</td>\n",
              "      <td>6.7</td>\n",
              "      <td>2.0</td>\n",
              "      <td>virginica</td>\n",
              "    </tr>\n",
              "    <tr>\n",
              "      <th>131</th>\n",
              "      <td>7.9</td>\n",
              "      <td>3.8</td>\n",
              "      <td>6.4</td>\n",
              "      <td>2.0</td>\n",
              "      <td>virginica</td>\n",
              "    </tr>\n",
              "    <tr>\n",
              "      <th>135</th>\n",
              "      <td>7.7</td>\n",
              "      <td>3.0</td>\n",
              "      <td>6.1</td>\n",
              "      <td>2.3</td>\n",
              "      <td>virginica</td>\n",
              "    </tr>\n",
              "  </tbody>\n",
              "</table>\n",
              "</div>"
            ],
            "text/plain": [
              "     Sepal.Length  Sepal.Width  Petal.Length  Petal.Width    Species\n",
              "105           7.6          3.0           6.6          2.1  virginica\n",
              "117           7.7          3.8           6.7          2.2  virginica\n",
              "118           7.7          2.6           6.9          2.3  virginica\n",
              "122           7.7          2.8           6.7          2.0  virginica\n",
              "131           7.9          3.8           6.4          2.0  virginica\n",
              "135           7.7          3.0           6.1          2.3  virginica"
            ]
          },
          "metadata": {
            "tags": []
          },
          "execution_count": 27
        }
      ]
    },
    {
      "cell_type": "code",
      "metadata": {
        "id": "6Hz-H-y0jwyA",
        "colab_type": "code",
        "outputId": "cb14c29b-61e5-4829-b406-ae0e4323617c",
        "colab": {}
      },
      "source": [
        "# Filter dataframe based on multiple value condition on one column\n",
        "df[df['Species'].isin(['versicolor', 'virginica'])]"
      ],
      "execution_count": 0,
      "outputs": [
        {
          "output_type": "execute_result",
          "data": {
            "text/html": [
              "<div>\n",
              "<style scoped>\n",
              "    .dataframe tbody tr th:only-of-type {\n",
              "        vertical-align: middle;\n",
              "    }\n",
              "\n",
              "    .dataframe tbody tr th {\n",
              "        vertical-align: top;\n",
              "    }\n",
              "\n",
              "    .dataframe thead th {\n",
              "        text-align: right;\n",
              "    }\n",
              "</style>\n",
              "<table border=\"1\" class=\"dataframe\">\n",
              "  <thead>\n",
              "    <tr style=\"text-align: right;\">\n",
              "      <th></th>\n",
              "      <th>Sepal.Length</th>\n",
              "      <th>Sepal.Width</th>\n",
              "      <th>Petal.Length</th>\n",
              "      <th>Petal.Width</th>\n",
              "      <th>Species</th>\n",
              "    </tr>\n",
              "  </thead>\n",
              "  <tbody>\n",
              "    <tr>\n",
              "      <th>50</th>\n",
              "      <td>7.0</td>\n",
              "      <td>3.2</td>\n",
              "      <td>4.7</td>\n",
              "      <td>1.4</td>\n",
              "      <td>versicolor</td>\n",
              "    </tr>\n",
              "    <tr>\n",
              "      <th>51</th>\n",
              "      <td>6.4</td>\n",
              "      <td>3.2</td>\n",
              "      <td>4.5</td>\n",
              "      <td>1.5</td>\n",
              "      <td>versicolor</td>\n",
              "    </tr>\n",
              "    <tr>\n",
              "      <th>52</th>\n",
              "      <td>6.9</td>\n",
              "      <td>3.1</td>\n",
              "      <td>4.9</td>\n",
              "      <td>1.5</td>\n",
              "      <td>versicolor</td>\n",
              "    </tr>\n",
              "    <tr>\n",
              "      <th>53</th>\n",
              "      <td>5.5</td>\n",
              "      <td>2.3</td>\n",
              "      <td>4.0</td>\n",
              "      <td>1.3</td>\n",
              "      <td>versicolor</td>\n",
              "    </tr>\n",
              "    <tr>\n",
              "      <th>54</th>\n",
              "      <td>6.5</td>\n",
              "      <td>2.8</td>\n",
              "      <td>4.6</td>\n",
              "      <td>1.5</td>\n",
              "      <td>versicolor</td>\n",
              "    </tr>\n",
              "    <tr>\n",
              "      <th>55</th>\n",
              "      <td>5.7</td>\n",
              "      <td>2.8</td>\n",
              "      <td>4.5</td>\n",
              "      <td>1.3</td>\n",
              "      <td>versicolor</td>\n",
              "    </tr>\n",
              "    <tr>\n",
              "      <th>56</th>\n",
              "      <td>6.3</td>\n",
              "      <td>3.3</td>\n",
              "      <td>4.7</td>\n",
              "      <td>1.6</td>\n",
              "      <td>versicolor</td>\n",
              "    </tr>\n",
              "    <tr>\n",
              "      <th>57</th>\n",
              "      <td>4.9</td>\n",
              "      <td>2.4</td>\n",
              "      <td>3.3</td>\n",
              "      <td>1.0</td>\n",
              "      <td>versicolor</td>\n",
              "    </tr>\n",
              "    <tr>\n",
              "      <th>58</th>\n",
              "      <td>6.6</td>\n",
              "      <td>2.9</td>\n",
              "      <td>4.6</td>\n",
              "      <td>1.3</td>\n",
              "      <td>versicolor</td>\n",
              "    </tr>\n",
              "    <tr>\n",
              "      <th>59</th>\n",
              "      <td>5.2</td>\n",
              "      <td>2.7</td>\n",
              "      <td>3.9</td>\n",
              "      <td>1.4</td>\n",
              "      <td>versicolor</td>\n",
              "    </tr>\n",
              "    <tr>\n",
              "      <th>60</th>\n",
              "      <td>5.0</td>\n",
              "      <td>2.0</td>\n",
              "      <td>3.5</td>\n",
              "      <td>1.0</td>\n",
              "      <td>versicolor</td>\n",
              "    </tr>\n",
              "    <tr>\n",
              "      <th>61</th>\n",
              "      <td>5.9</td>\n",
              "      <td>3.0</td>\n",
              "      <td>4.2</td>\n",
              "      <td>1.5</td>\n",
              "      <td>versicolor</td>\n",
              "    </tr>\n",
              "    <tr>\n",
              "      <th>62</th>\n",
              "      <td>6.0</td>\n",
              "      <td>2.2</td>\n",
              "      <td>4.0</td>\n",
              "      <td>1.0</td>\n",
              "      <td>versicolor</td>\n",
              "    </tr>\n",
              "    <tr>\n",
              "      <th>63</th>\n",
              "      <td>6.1</td>\n",
              "      <td>2.9</td>\n",
              "      <td>4.7</td>\n",
              "      <td>1.4</td>\n",
              "      <td>versicolor</td>\n",
              "    </tr>\n",
              "    <tr>\n",
              "      <th>64</th>\n",
              "      <td>5.6</td>\n",
              "      <td>2.9</td>\n",
              "      <td>3.6</td>\n",
              "      <td>1.3</td>\n",
              "      <td>versicolor</td>\n",
              "    </tr>\n",
              "    <tr>\n",
              "      <th>65</th>\n",
              "      <td>6.7</td>\n",
              "      <td>3.1</td>\n",
              "      <td>4.4</td>\n",
              "      <td>1.4</td>\n",
              "      <td>versicolor</td>\n",
              "    </tr>\n",
              "    <tr>\n",
              "      <th>66</th>\n",
              "      <td>5.6</td>\n",
              "      <td>3.0</td>\n",
              "      <td>4.5</td>\n",
              "      <td>1.5</td>\n",
              "      <td>versicolor</td>\n",
              "    </tr>\n",
              "    <tr>\n",
              "      <th>67</th>\n",
              "      <td>5.8</td>\n",
              "      <td>2.7</td>\n",
              "      <td>4.1</td>\n",
              "      <td>1.0</td>\n",
              "      <td>versicolor</td>\n",
              "    </tr>\n",
              "    <tr>\n",
              "      <th>68</th>\n",
              "      <td>6.2</td>\n",
              "      <td>2.2</td>\n",
              "      <td>4.5</td>\n",
              "      <td>1.5</td>\n",
              "      <td>versicolor</td>\n",
              "    </tr>\n",
              "    <tr>\n",
              "      <th>69</th>\n",
              "      <td>5.6</td>\n",
              "      <td>2.5</td>\n",
              "      <td>3.9</td>\n",
              "      <td>1.1</td>\n",
              "      <td>versicolor</td>\n",
              "    </tr>\n",
              "    <tr>\n",
              "      <th>70</th>\n",
              "      <td>5.9</td>\n",
              "      <td>3.2</td>\n",
              "      <td>4.8</td>\n",
              "      <td>1.8</td>\n",
              "      <td>versicolor</td>\n",
              "    </tr>\n",
              "    <tr>\n",
              "      <th>71</th>\n",
              "      <td>6.1</td>\n",
              "      <td>2.8</td>\n",
              "      <td>4.0</td>\n",
              "      <td>1.3</td>\n",
              "      <td>versicolor</td>\n",
              "    </tr>\n",
              "    <tr>\n",
              "      <th>72</th>\n",
              "      <td>6.3</td>\n",
              "      <td>2.5</td>\n",
              "      <td>4.9</td>\n",
              "      <td>1.5</td>\n",
              "      <td>versicolor</td>\n",
              "    </tr>\n",
              "    <tr>\n",
              "      <th>73</th>\n",
              "      <td>6.1</td>\n",
              "      <td>2.8</td>\n",
              "      <td>4.7</td>\n",
              "      <td>1.2</td>\n",
              "      <td>versicolor</td>\n",
              "    </tr>\n",
              "    <tr>\n",
              "      <th>74</th>\n",
              "      <td>6.4</td>\n",
              "      <td>2.9</td>\n",
              "      <td>4.3</td>\n",
              "      <td>1.3</td>\n",
              "      <td>versicolor</td>\n",
              "    </tr>\n",
              "    <tr>\n",
              "      <th>75</th>\n",
              "      <td>6.6</td>\n",
              "      <td>3.0</td>\n",
              "      <td>4.4</td>\n",
              "      <td>1.4</td>\n",
              "      <td>versicolor</td>\n",
              "    </tr>\n",
              "    <tr>\n",
              "      <th>76</th>\n",
              "      <td>6.8</td>\n",
              "      <td>2.8</td>\n",
              "      <td>4.8</td>\n",
              "      <td>1.4</td>\n",
              "      <td>versicolor</td>\n",
              "    </tr>\n",
              "    <tr>\n",
              "      <th>77</th>\n",
              "      <td>6.7</td>\n",
              "      <td>3.0</td>\n",
              "      <td>5.0</td>\n",
              "      <td>1.7</td>\n",
              "      <td>versicolor</td>\n",
              "    </tr>\n",
              "    <tr>\n",
              "      <th>78</th>\n",
              "      <td>6.0</td>\n",
              "      <td>2.9</td>\n",
              "      <td>4.5</td>\n",
              "      <td>1.5</td>\n",
              "      <td>versicolor</td>\n",
              "    </tr>\n",
              "    <tr>\n",
              "      <th>79</th>\n",
              "      <td>5.7</td>\n",
              "      <td>2.6</td>\n",
              "      <td>3.5</td>\n",
              "      <td>1.0</td>\n",
              "      <td>versicolor</td>\n",
              "    </tr>\n",
              "    <tr>\n",
              "      <th>...</th>\n",
              "      <td>...</td>\n",
              "      <td>...</td>\n",
              "      <td>...</td>\n",
              "      <td>...</td>\n",
              "      <td>...</td>\n",
              "    </tr>\n",
              "    <tr>\n",
              "      <th>120</th>\n",
              "      <td>6.9</td>\n",
              "      <td>3.2</td>\n",
              "      <td>5.7</td>\n",
              "      <td>2.3</td>\n",
              "      <td>virginica</td>\n",
              "    </tr>\n",
              "    <tr>\n",
              "      <th>121</th>\n",
              "      <td>5.6</td>\n",
              "      <td>2.8</td>\n",
              "      <td>4.9</td>\n",
              "      <td>2.0</td>\n",
              "      <td>virginica</td>\n",
              "    </tr>\n",
              "    <tr>\n",
              "      <th>122</th>\n",
              "      <td>7.7</td>\n",
              "      <td>2.8</td>\n",
              "      <td>6.7</td>\n",
              "      <td>2.0</td>\n",
              "      <td>virginica</td>\n",
              "    </tr>\n",
              "    <tr>\n",
              "      <th>123</th>\n",
              "      <td>6.3</td>\n",
              "      <td>2.7</td>\n",
              "      <td>4.9</td>\n",
              "      <td>1.8</td>\n",
              "      <td>virginica</td>\n",
              "    </tr>\n",
              "    <tr>\n",
              "      <th>124</th>\n",
              "      <td>6.7</td>\n",
              "      <td>3.3</td>\n",
              "      <td>5.7</td>\n",
              "      <td>2.1</td>\n",
              "      <td>virginica</td>\n",
              "    </tr>\n",
              "    <tr>\n",
              "      <th>125</th>\n",
              "      <td>7.2</td>\n",
              "      <td>3.2</td>\n",
              "      <td>6.0</td>\n",
              "      <td>1.8</td>\n",
              "      <td>virginica</td>\n",
              "    </tr>\n",
              "    <tr>\n",
              "      <th>126</th>\n",
              "      <td>6.2</td>\n",
              "      <td>2.8</td>\n",
              "      <td>4.8</td>\n",
              "      <td>1.8</td>\n",
              "      <td>virginica</td>\n",
              "    </tr>\n",
              "    <tr>\n",
              "      <th>127</th>\n",
              "      <td>6.1</td>\n",
              "      <td>3.0</td>\n",
              "      <td>4.9</td>\n",
              "      <td>1.8</td>\n",
              "      <td>virginica</td>\n",
              "    </tr>\n",
              "    <tr>\n",
              "      <th>128</th>\n",
              "      <td>6.4</td>\n",
              "      <td>2.8</td>\n",
              "      <td>5.6</td>\n",
              "      <td>2.1</td>\n",
              "      <td>virginica</td>\n",
              "    </tr>\n",
              "    <tr>\n",
              "      <th>129</th>\n",
              "      <td>7.2</td>\n",
              "      <td>3.0</td>\n",
              "      <td>5.8</td>\n",
              "      <td>1.6</td>\n",
              "      <td>virginica</td>\n",
              "    </tr>\n",
              "    <tr>\n",
              "      <th>130</th>\n",
              "      <td>7.4</td>\n",
              "      <td>2.8</td>\n",
              "      <td>6.1</td>\n",
              "      <td>1.9</td>\n",
              "      <td>virginica</td>\n",
              "    </tr>\n",
              "    <tr>\n",
              "      <th>131</th>\n",
              "      <td>7.9</td>\n",
              "      <td>3.8</td>\n",
              "      <td>6.4</td>\n",
              "      <td>2.0</td>\n",
              "      <td>virginica</td>\n",
              "    </tr>\n",
              "    <tr>\n",
              "      <th>132</th>\n",
              "      <td>6.4</td>\n",
              "      <td>2.8</td>\n",
              "      <td>5.6</td>\n",
              "      <td>2.2</td>\n",
              "      <td>virginica</td>\n",
              "    </tr>\n",
              "    <tr>\n",
              "      <th>133</th>\n",
              "      <td>6.3</td>\n",
              "      <td>2.8</td>\n",
              "      <td>5.1</td>\n",
              "      <td>1.5</td>\n",
              "      <td>virginica</td>\n",
              "    </tr>\n",
              "    <tr>\n",
              "      <th>134</th>\n",
              "      <td>6.1</td>\n",
              "      <td>2.6</td>\n",
              "      <td>5.6</td>\n",
              "      <td>1.4</td>\n",
              "      <td>virginica</td>\n",
              "    </tr>\n",
              "    <tr>\n",
              "      <th>135</th>\n",
              "      <td>7.7</td>\n",
              "      <td>3.0</td>\n",
              "      <td>6.1</td>\n",
              "      <td>2.3</td>\n",
              "      <td>virginica</td>\n",
              "    </tr>\n",
              "    <tr>\n",
              "      <th>136</th>\n",
              "      <td>6.3</td>\n",
              "      <td>3.4</td>\n",
              "      <td>5.6</td>\n",
              "      <td>2.4</td>\n",
              "      <td>virginica</td>\n",
              "    </tr>\n",
              "    <tr>\n",
              "      <th>137</th>\n",
              "      <td>6.4</td>\n",
              "      <td>3.1</td>\n",
              "      <td>5.5</td>\n",
              "      <td>1.8</td>\n",
              "      <td>virginica</td>\n",
              "    </tr>\n",
              "    <tr>\n",
              "      <th>138</th>\n",
              "      <td>6.0</td>\n",
              "      <td>3.0</td>\n",
              "      <td>4.8</td>\n",
              "      <td>1.8</td>\n",
              "      <td>virginica</td>\n",
              "    </tr>\n",
              "    <tr>\n",
              "      <th>139</th>\n",
              "      <td>6.9</td>\n",
              "      <td>3.1</td>\n",
              "      <td>5.4</td>\n",
              "      <td>2.1</td>\n",
              "      <td>virginica</td>\n",
              "    </tr>\n",
              "    <tr>\n",
              "      <th>140</th>\n",
              "      <td>6.7</td>\n",
              "      <td>3.1</td>\n",
              "      <td>5.6</td>\n",
              "      <td>2.4</td>\n",
              "      <td>virginica</td>\n",
              "    </tr>\n",
              "    <tr>\n",
              "      <th>141</th>\n",
              "      <td>6.9</td>\n",
              "      <td>3.1</td>\n",
              "      <td>5.1</td>\n",
              "      <td>2.3</td>\n",
              "      <td>virginica</td>\n",
              "    </tr>\n",
              "    <tr>\n",
              "      <th>142</th>\n",
              "      <td>5.8</td>\n",
              "      <td>2.7</td>\n",
              "      <td>5.1</td>\n",
              "      <td>1.9</td>\n",
              "      <td>virginica</td>\n",
              "    </tr>\n",
              "    <tr>\n",
              "      <th>143</th>\n",
              "      <td>6.8</td>\n",
              "      <td>3.2</td>\n",
              "      <td>5.9</td>\n",
              "      <td>2.3</td>\n",
              "      <td>virginica</td>\n",
              "    </tr>\n",
              "    <tr>\n",
              "      <th>144</th>\n",
              "      <td>6.7</td>\n",
              "      <td>3.3</td>\n",
              "      <td>5.7</td>\n",
              "      <td>2.5</td>\n",
              "      <td>virginica</td>\n",
              "    </tr>\n",
              "    <tr>\n",
              "      <th>145</th>\n",
              "      <td>6.7</td>\n",
              "      <td>3.0</td>\n",
              "      <td>5.2</td>\n",
              "      <td>2.3</td>\n",
              "      <td>virginica</td>\n",
              "    </tr>\n",
              "    <tr>\n",
              "      <th>146</th>\n",
              "      <td>6.3</td>\n",
              "      <td>2.5</td>\n",
              "      <td>5.0</td>\n",
              "      <td>1.9</td>\n",
              "      <td>virginica</td>\n",
              "    </tr>\n",
              "    <tr>\n",
              "      <th>147</th>\n",
              "      <td>6.5</td>\n",
              "      <td>3.0</td>\n",
              "      <td>5.2</td>\n",
              "      <td>2.0</td>\n",
              "      <td>virginica</td>\n",
              "    </tr>\n",
              "    <tr>\n",
              "      <th>148</th>\n",
              "      <td>6.2</td>\n",
              "      <td>3.4</td>\n",
              "      <td>5.4</td>\n",
              "      <td>2.3</td>\n",
              "      <td>virginica</td>\n",
              "    </tr>\n",
              "    <tr>\n",
              "      <th>149</th>\n",
              "      <td>5.9</td>\n",
              "      <td>3.0</td>\n",
              "      <td>5.1</td>\n",
              "      <td>1.8</td>\n",
              "      <td>virginica</td>\n",
              "    </tr>\n",
              "  </tbody>\n",
              "</table>\n",
              "<p>100 rows × 5 columns</p>\n",
              "</div>"
            ],
            "text/plain": [
              "     Sepal.Length  Sepal.Width  Petal.Length  Petal.Width     Species\n",
              "50            7.0          3.2           4.7          1.4  versicolor\n",
              "51            6.4          3.2           4.5          1.5  versicolor\n",
              "52            6.9          3.1           4.9          1.5  versicolor\n",
              "53            5.5          2.3           4.0          1.3  versicolor\n",
              "54            6.5          2.8           4.6          1.5  versicolor\n",
              "55            5.7          2.8           4.5          1.3  versicolor\n",
              "56            6.3          3.3           4.7          1.6  versicolor\n",
              "57            4.9          2.4           3.3          1.0  versicolor\n",
              "58            6.6          2.9           4.6          1.3  versicolor\n",
              "59            5.2          2.7           3.9          1.4  versicolor\n",
              "60            5.0          2.0           3.5          1.0  versicolor\n",
              "61            5.9          3.0           4.2          1.5  versicolor\n",
              "62            6.0          2.2           4.0          1.0  versicolor\n",
              "63            6.1          2.9           4.7          1.4  versicolor\n",
              "64            5.6          2.9           3.6          1.3  versicolor\n",
              "65            6.7          3.1           4.4          1.4  versicolor\n",
              "66            5.6          3.0           4.5          1.5  versicolor\n",
              "67            5.8          2.7           4.1          1.0  versicolor\n",
              "68            6.2          2.2           4.5          1.5  versicolor\n",
              "69            5.6          2.5           3.9          1.1  versicolor\n",
              "70            5.9          3.2           4.8          1.8  versicolor\n",
              "71            6.1          2.8           4.0          1.3  versicolor\n",
              "72            6.3          2.5           4.9          1.5  versicolor\n",
              "73            6.1          2.8           4.7          1.2  versicolor\n",
              "74            6.4          2.9           4.3          1.3  versicolor\n",
              "75            6.6          3.0           4.4          1.4  versicolor\n",
              "76            6.8          2.8           4.8          1.4  versicolor\n",
              "77            6.7          3.0           5.0          1.7  versicolor\n",
              "78            6.0          2.9           4.5          1.5  versicolor\n",
              "79            5.7          2.6           3.5          1.0  versicolor\n",
              "..            ...          ...           ...          ...         ...\n",
              "120           6.9          3.2           5.7          2.3   virginica\n",
              "121           5.6          2.8           4.9          2.0   virginica\n",
              "122           7.7          2.8           6.7          2.0   virginica\n",
              "123           6.3          2.7           4.9          1.8   virginica\n",
              "124           6.7          3.3           5.7          2.1   virginica\n",
              "125           7.2          3.2           6.0          1.8   virginica\n",
              "126           6.2          2.8           4.8          1.8   virginica\n",
              "127           6.1          3.0           4.9          1.8   virginica\n",
              "128           6.4          2.8           5.6          2.1   virginica\n",
              "129           7.2          3.0           5.8          1.6   virginica\n",
              "130           7.4          2.8           6.1          1.9   virginica\n",
              "131           7.9          3.8           6.4          2.0   virginica\n",
              "132           6.4          2.8           5.6          2.2   virginica\n",
              "133           6.3          2.8           5.1          1.5   virginica\n",
              "134           6.1          2.6           5.6          1.4   virginica\n",
              "135           7.7          3.0           6.1          2.3   virginica\n",
              "136           6.3          3.4           5.6          2.4   virginica\n",
              "137           6.4          3.1           5.5          1.8   virginica\n",
              "138           6.0          3.0           4.8          1.8   virginica\n",
              "139           6.9          3.1           5.4          2.1   virginica\n",
              "140           6.7          3.1           5.6          2.4   virginica\n",
              "141           6.9          3.1           5.1          2.3   virginica\n",
              "142           5.8          2.7           5.1          1.9   virginica\n",
              "143           6.8          3.2           5.9          2.3   virginica\n",
              "144           6.7          3.3           5.7          2.5   virginica\n",
              "145           6.7          3.0           5.2          2.3   virginica\n",
              "146           6.3          2.5           5.0          1.9   virginica\n",
              "147           6.5          3.0           5.2          2.0   virginica\n",
              "148           6.2          3.4           5.4          2.3   virginica\n",
              "149           5.9          3.0           5.1          1.8   virginica\n",
              "\n",
              "[100 rows x 5 columns]"
            ]
          },
          "metadata": {
            "tags": []
          },
          "execution_count": 28
        }
      ]
    },
    {
      "cell_type": "code",
      "metadata": {
        "id": "sNJOSSYAjwyD",
        "colab_type": "code",
        "outputId": "6a8f3930-6025-48f9-810b-5bc285722dae",
        "colab": {}
      },
      "source": [
        "# filter based on multiple conditions on multiple columns using AND operator\n",
        "df[(df['Sepal.Length']>7.5) & (df['Sepal.Width']>3)] # AND operator"
      ],
      "execution_count": 0,
      "outputs": [
        {
          "output_type": "execute_result",
          "data": {
            "text/html": [
              "<div>\n",
              "<style scoped>\n",
              "    .dataframe tbody tr th:only-of-type {\n",
              "        vertical-align: middle;\n",
              "    }\n",
              "\n",
              "    .dataframe tbody tr th {\n",
              "        vertical-align: top;\n",
              "    }\n",
              "\n",
              "    .dataframe thead th {\n",
              "        text-align: right;\n",
              "    }\n",
              "</style>\n",
              "<table border=\"1\" class=\"dataframe\">\n",
              "  <thead>\n",
              "    <tr style=\"text-align: right;\">\n",
              "      <th></th>\n",
              "      <th>Sepal.Length</th>\n",
              "      <th>Sepal.Width</th>\n",
              "      <th>Petal.Length</th>\n",
              "      <th>Petal.Width</th>\n",
              "      <th>Species</th>\n",
              "    </tr>\n",
              "  </thead>\n",
              "  <tbody>\n",
              "    <tr>\n",
              "      <th>117</th>\n",
              "      <td>7.7</td>\n",
              "      <td>3.8</td>\n",
              "      <td>6.7</td>\n",
              "      <td>2.2</td>\n",
              "      <td>virginica</td>\n",
              "    </tr>\n",
              "    <tr>\n",
              "      <th>131</th>\n",
              "      <td>7.9</td>\n",
              "      <td>3.8</td>\n",
              "      <td>6.4</td>\n",
              "      <td>2.0</td>\n",
              "      <td>virginica</td>\n",
              "    </tr>\n",
              "  </tbody>\n",
              "</table>\n",
              "</div>"
            ],
            "text/plain": [
              "     Sepal.Length  Sepal.Width  Petal.Length  Petal.Width    Species\n",
              "117           7.7          3.8           6.7          2.2  virginica\n",
              "131           7.9          3.8           6.4          2.0  virginica"
            ]
          },
          "metadata": {
            "tags": []
          },
          "execution_count": 29
        }
      ]
    },
    {
      "cell_type": "code",
      "metadata": {
        "id": "u1YXZTOOjwyF",
        "colab_type": "code",
        "outputId": "2b667fa9-429a-4688-c2a5-ffc99674f4a4",
        "colab": {}
      },
      "source": [
        "#  filter based on multiple conditions on multiple columns using OR operator\n",
        "df[(df['Sepal.Length']>7.5) | (df['Sepal.Width']>3)] # OR operator"
      ],
      "execution_count": 0,
      "outputs": [
        {
          "output_type": "execute_result",
          "data": {
            "text/html": [
              "<div>\n",
              "<style scoped>\n",
              "    .dataframe tbody tr th:only-of-type {\n",
              "        vertical-align: middle;\n",
              "    }\n",
              "\n",
              "    .dataframe tbody tr th {\n",
              "        vertical-align: top;\n",
              "    }\n",
              "\n",
              "    .dataframe thead th {\n",
              "        text-align: right;\n",
              "    }\n",
              "</style>\n",
              "<table border=\"1\" class=\"dataframe\">\n",
              "  <thead>\n",
              "    <tr style=\"text-align: right;\">\n",
              "      <th></th>\n",
              "      <th>Sepal.Length</th>\n",
              "      <th>Sepal.Width</th>\n",
              "      <th>Petal.Length</th>\n",
              "      <th>Petal.Width</th>\n",
              "      <th>Species</th>\n",
              "    </tr>\n",
              "  </thead>\n",
              "  <tbody>\n",
              "    <tr>\n",
              "      <th>0</th>\n",
              "      <td>5.1</td>\n",
              "      <td>3.5</td>\n",
              "      <td>1.4</td>\n",
              "      <td>0.2</td>\n",
              "      <td>setosa</td>\n",
              "    </tr>\n",
              "    <tr>\n",
              "      <th>2</th>\n",
              "      <td>4.7</td>\n",
              "      <td>3.2</td>\n",
              "      <td>1.3</td>\n",
              "      <td>0.2</td>\n",
              "      <td>setosa</td>\n",
              "    </tr>\n",
              "    <tr>\n",
              "      <th>3</th>\n",
              "      <td>4.6</td>\n",
              "      <td>3.1</td>\n",
              "      <td>1.5</td>\n",
              "      <td>0.2</td>\n",
              "      <td>setosa</td>\n",
              "    </tr>\n",
              "    <tr>\n",
              "      <th>4</th>\n",
              "      <td>5.0</td>\n",
              "      <td>3.6</td>\n",
              "      <td>1.4</td>\n",
              "      <td>0.2</td>\n",
              "      <td>setosa</td>\n",
              "    </tr>\n",
              "    <tr>\n",
              "      <th>5</th>\n",
              "      <td>5.4</td>\n",
              "      <td>3.9</td>\n",
              "      <td>1.7</td>\n",
              "      <td>0.4</td>\n",
              "      <td>setosa</td>\n",
              "    </tr>\n",
              "    <tr>\n",
              "      <th>6</th>\n",
              "      <td>4.6</td>\n",
              "      <td>3.4</td>\n",
              "      <td>1.4</td>\n",
              "      <td>0.3</td>\n",
              "      <td>setosa</td>\n",
              "    </tr>\n",
              "    <tr>\n",
              "      <th>7</th>\n",
              "      <td>5.0</td>\n",
              "      <td>3.4</td>\n",
              "      <td>1.5</td>\n",
              "      <td>0.2</td>\n",
              "      <td>setosa</td>\n",
              "    </tr>\n",
              "    <tr>\n",
              "      <th>9</th>\n",
              "      <td>4.9</td>\n",
              "      <td>3.1</td>\n",
              "      <td>1.5</td>\n",
              "      <td>0.1</td>\n",
              "      <td>setosa</td>\n",
              "    </tr>\n",
              "    <tr>\n",
              "      <th>10</th>\n",
              "      <td>5.4</td>\n",
              "      <td>3.7</td>\n",
              "      <td>1.5</td>\n",
              "      <td>0.2</td>\n",
              "      <td>setosa</td>\n",
              "    </tr>\n",
              "    <tr>\n",
              "      <th>11</th>\n",
              "      <td>4.8</td>\n",
              "      <td>3.4</td>\n",
              "      <td>1.6</td>\n",
              "      <td>0.2</td>\n",
              "      <td>setosa</td>\n",
              "    </tr>\n",
              "    <tr>\n",
              "      <th>14</th>\n",
              "      <td>5.8</td>\n",
              "      <td>4.0</td>\n",
              "      <td>1.2</td>\n",
              "      <td>0.2</td>\n",
              "      <td>setosa</td>\n",
              "    </tr>\n",
              "    <tr>\n",
              "      <th>15</th>\n",
              "      <td>5.7</td>\n",
              "      <td>4.4</td>\n",
              "      <td>1.5</td>\n",
              "      <td>0.4</td>\n",
              "      <td>setosa</td>\n",
              "    </tr>\n",
              "    <tr>\n",
              "      <th>16</th>\n",
              "      <td>5.4</td>\n",
              "      <td>3.9</td>\n",
              "      <td>1.3</td>\n",
              "      <td>0.4</td>\n",
              "      <td>setosa</td>\n",
              "    </tr>\n",
              "    <tr>\n",
              "      <th>17</th>\n",
              "      <td>5.1</td>\n",
              "      <td>3.5</td>\n",
              "      <td>1.4</td>\n",
              "      <td>0.3</td>\n",
              "      <td>setosa</td>\n",
              "    </tr>\n",
              "    <tr>\n",
              "      <th>18</th>\n",
              "      <td>5.7</td>\n",
              "      <td>3.8</td>\n",
              "      <td>1.7</td>\n",
              "      <td>0.3</td>\n",
              "      <td>setosa</td>\n",
              "    </tr>\n",
              "    <tr>\n",
              "      <th>19</th>\n",
              "      <td>5.1</td>\n",
              "      <td>3.8</td>\n",
              "      <td>1.5</td>\n",
              "      <td>0.3</td>\n",
              "      <td>setosa</td>\n",
              "    </tr>\n",
              "    <tr>\n",
              "      <th>20</th>\n",
              "      <td>5.4</td>\n",
              "      <td>3.4</td>\n",
              "      <td>1.7</td>\n",
              "      <td>0.2</td>\n",
              "      <td>setosa</td>\n",
              "    </tr>\n",
              "    <tr>\n",
              "      <th>21</th>\n",
              "      <td>5.1</td>\n",
              "      <td>3.7</td>\n",
              "      <td>1.5</td>\n",
              "      <td>0.4</td>\n",
              "      <td>setosa</td>\n",
              "    </tr>\n",
              "    <tr>\n",
              "      <th>22</th>\n",
              "      <td>4.6</td>\n",
              "      <td>3.6</td>\n",
              "      <td>1.0</td>\n",
              "      <td>0.2</td>\n",
              "      <td>setosa</td>\n",
              "    </tr>\n",
              "    <tr>\n",
              "      <th>23</th>\n",
              "      <td>5.1</td>\n",
              "      <td>3.3</td>\n",
              "      <td>1.7</td>\n",
              "      <td>0.5</td>\n",
              "      <td>setosa</td>\n",
              "    </tr>\n",
              "    <tr>\n",
              "      <th>24</th>\n",
              "      <td>4.8</td>\n",
              "      <td>3.4</td>\n",
              "      <td>1.9</td>\n",
              "      <td>0.2</td>\n",
              "      <td>setosa</td>\n",
              "    </tr>\n",
              "    <tr>\n",
              "      <th>26</th>\n",
              "      <td>5.0</td>\n",
              "      <td>3.4</td>\n",
              "      <td>1.6</td>\n",
              "      <td>0.4</td>\n",
              "      <td>setosa</td>\n",
              "    </tr>\n",
              "    <tr>\n",
              "      <th>27</th>\n",
              "      <td>5.2</td>\n",
              "      <td>3.5</td>\n",
              "      <td>1.5</td>\n",
              "      <td>0.2</td>\n",
              "      <td>setosa</td>\n",
              "    </tr>\n",
              "    <tr>\n",
              "      <th>28</th>\n",
              "      <td>5.2</td>\n",
              "      <td>3.4</td>\n",
              "      <td>1.4</td>\n",
              "      <td>0.2</td>\n",
              "      <td>setosa</td>\n",
              "    </tr>\n",
              "    <tr>\n",
              "      <th>29</th>\n",
              "      <td>4.7</td>\n",
              "      <td>3.2</td>\n",
              "      <td>1.6</td>\n",
              "      <td>0.2</td>\n",
              "      <td>setosa</td>\n",
              "    </tr>\n",
              "    <tr>\n",
              "      <th>30</th>\n",
              "      <td>4.8</td>\n",
              "      <td>3.1</td>\n",
              "      <td>1.6</td>\n",
              "      <td>0.2</td>\n",
              "      <td>setosa</td>\n",
              "    </tr>\n",
              "    <tr>\n",
              "      <th>31</th>\n",
              "      <td>5.4</td>\n",
              "      <td>3.4</td>\n",
              "      <td>1.5</td>\n",
              "      <td>0.4</td>\n",
              "      <td>setosa</td>\n",
              "    </tr>\n",
              "    <tr>\n",
              "      <th>32</th>\n",
              "      <td>5.2</td>\n",
              "      <td>4.1</td>\n",
              "      <td>1.5</td>\n",
              "      <td>0.1</td>\n",
              "      <td>setosa</td>\n",
              "    </tr>\n",
              "    <tr>\n",
              "      <th>33</th>\n",
              "      <td>5.5</td>\n",
              "      <td>4.2</td>\n",
              "      <td>1.4</td>\n",
              "      <td>0.2</td>\n",
              "      <td>setosa</td>\n",
              "    </tr>\n",
              "    <tr>\n",
              "      <th>34</th>\n",
              "      <td>4.9</td>\n",
              "      <td>3.1</td>\n",
              "      <td>1.5</td>\n",
              "      <td>0.2</td>\n",
              "      <td>setosa</td>\n",
              "    </tr>\n",
              "    <tr>\n",
              "      <th>...</th>\n",
              "      <td>...</td>\n",
              "      <td>...</td>\n",
              "      <td>...</td>\n",
              "      <td>...</td>\n",
              "      <td>...</td>\n",
              "    </tr>\n",
              "    <tr>\n",
              "      <th>49</th>\n",
              "      <td>5.0</td>\n",
              "      <td>3.3</td>\n",
              "      <td>1.4</td>\n",
              "      <td>0.2</td>\n",
              "      <td>setosa</td>\n",
              "    </tr>\n",
              "    <tr>\n",
              "      <th>50</th>\n",
              "      <td>7.0</td>\n",
              "      <td>3.2</td>\n",
              "      <td>4.7</td>\n",
              "      <td>1.4</td>\n",
              "      <td>versicolor</td>\n",
              "    </tr>\n",
              "    <tr>\n",
              "      <th>51</th>\n",
              "      <td>6.4</td>\n",
              "      <td>3.2</td>\n",
              "      <td>4.5</td>\n",
              "      <td>1.5</td>\n",
              "      <td>versicolor</td>\n",
              "    </tr>\n",
              "    <tr>\n",
              "      <th>52</th>\n",
              "      <td>6.9</td>\n",
              "      <td>3.1</td>\n",
              "      <td>4.9</td>\n",
              "      <td>1.5</td>\n",
              "      <td>versicolor</td>\n",
              "    </tr>\n",
              "    <tr>\n",
              "      <th>56</th>\n",
              "      <td>6.3</td>\n",
              "      <td>3.3</td>\n",
              "      <td>4.7</td>\n",
              "      <td>1.6</td>\n",
              "      <td>versicolor</td>\n",
              "    </tr>\n",
              "    <tr>\n",
              "      <th>65</th>\n",
              "      <td>6.7</td>\n",
              "      <td>3.1</td>\n",
              "      <td>4.4</td>\n",
              "      <td>1.4</td>\n",
              "      <td>versicolor</td>\n",
              "    </tr>\n",
              "    <tr>\n",
              "      <th>70</th>\n",
              "      <td>5.9</td>\n",
              "      <td>3.2</td>\n",
              "      <td>4.8</td>\n",
              "      <td>1.8</td>\n",
              "      <td>versicolor</td>\n",
              "    </tr>\n",
              "    <tr>\n",
              "      <th>85</th>\n",
              "      <td>6.0</td>\n",
              "      <td>3.4</td>\n",
              "      <td>4.5</td>\n",
              "      <td>1.6</td>\n",
              "      <td>versicolor</td>\n",
              "    </tr>\n",
              "    <tr>\n",
              "      <th>86</th>\n",
              "      <td>6.7</td>\n",
              "      <td>3.1</td>\n",
              "      <td>4.7</td>\n",
              "      <td>1.5</td>\n",
              "      <td>versicolor</td>\n",
              "    </tr>\n",
              "    <tr>\n",
              "      <th>100</th>\n",
              "      <td>6.3</td>\n",
              "      <td>3.3</td>\n",
              "      <td>6.0</td>\n",
              "      <td>2.5</td>\n",
              "      <td>virginica</td>\n",
              "    </tr>\n",
              "    <tr>\n",
              "      <th>105</th>\n",
              "      <td>7.6</td>\n",
              "      <td>3.0</td>\n",
              "      <td>6.6</td>\n",
              "      <td>2.1</td>\n",
              "      <td>virginica</td>\n",
              "    </tr>\n",
              "    <tr>\n",
              "      <th>109</th>\n",
              "      <td>7.2</td>\n",
              "      <td>3.6</td>\n",
              "      <td>6.1</td>\n",
              "      <td>2.5</td>\n",
              "      <td>virginica</td>\n",
              "    </tr>\n",
              "    <tr>\n",
              "      <th>110</th>\n",
              "      <td>6.5</td>\n",
              "      <td>3.2</td>\n",
              "      <td>5.1</td>\n",
              "      <td>2.0</td>\n",
              "      <td>virginica</td>\n",
              "    </tr>\n",
              "    <tr>\n",
              "      <th>115</th>\n",
              "      <td>6.4</td>\n",
              "      <td>3.2</td>\n",
              "      <td>5.3</td>\n",
              "      <td>2.3</td>\n",
              "      <td>virginica</td>\n",
              "    </tr>\n",
              "    <tr>\n",
              "      <th>117</th>\n",
              "      <td>7.7</td>\n",
              "      <td>3.8</td>\n",
              "      <td>6.7</td>\n",
              "      <td>2.2</td>\n",
              "      <td>virginica</td>\n",
              "    </tr>\n",
              "    <tr>\n",
              "      <th>118</th>\n",
              "      <td>7.7</td>\n",
              "      <td>2.6</td>\n",
              "      <td>6.9</td>\n",
              "      <td>2.3</td>\n",
              "      <td>virginica</td>\n",
              "    </tr>\n",
              "    <tr>\n",
              "      <th>120</th>\n",
              "      <td>6.9</td>\n",
              "      <td>3.2</td>\n",
              "      <td>5.7</td>\n",
              "      <td>2.3</td>\n",
              "      <td>virginica</td>\n",
              "    </tr>\n",
              "    <tr>\n",
              "      <th>122</th>\n",
              "      <td>7.7</td>\n",
              "      <td>2.8</td>\n",
              "      <td>6.7</td>\n",
              "      <td>2.0</td>\n",
              "      <td>virginica</td>\n",
              "    </tr>\n",
              "    <tr>\n",
              "      <th>124</th>\n",
              "      <td>6.7</td>\n",
              "      <td>3.3</td>\n",
              "      <td>5.7</td>\n",
              "      <td>2.1</td>\n",
              "      <td>virginica</td>\n",
              "    </tr>\n",
              "    <tr>\n",
              "      <th>125</th>\n",
              "      <td>7.2</td>\n",
              "      <td>3.2</td>\n",
              "      <td>6.0</td>\n",
              "      <td>1.8</td>\n",
              "      <td>virginica</td>\n",
              "    </tr>\n",
              "    <tr>\n",
              "      <th>131</th>\n",
              "      <td>7.9</td>\n",
              "      <td>3.8</td>\n",
              "      <td>6.4</td>\n",
              "      <td>2.0</td>\n",
              "      <td>virginica</td>\n",
              "    </tr>\n",
              "    <tr>\n",
              "      <th>135</th>\n",
              "      <td>7.7</td>\n",
              "      <td>3.0</td>\n",
              "      <td>6.1</td>\n",
              "      <td>2.3</td>\n",
              "      <td>virginica</td>\n",
              "    </tr>\n",
              "    <tr>\n",
              "      <th>136</th>\n",
              "      <td>6.3</td>\n",
              "      <td>3.4</td>\n",
              "      <td>5.6</td>\n",
              "      <td>2.4</td>\n",
              "      <td>virginica</td>\n",
              "    </tr>\n",
              "    <tr>\n",
              "      <th>137</th>\n",
              "      <td>6.4</td>\n",
              "      <td>3.1</td>\n",
              "      <td>5.5</td>\n",
              "      <td>1.8</td>\n",
              "      <td>virginica</td>\n",
              "    </tr>\n",
              "    <tr>\n",
              "      <th>139</th>\n",
              "      <td>6.9</td>\n",
              "      <td>3.1</td>\n",
              "      <td>5.4</td>\n",
              "      <td>2.1</td>\n",
              "      <td>virginica</td>\n",
              "    </tr>\n",
              "    <tr>\n",
              "      <th>140</th>\n",
              "      <td>6.7</td>\n",
              "      <td>3.1</td>\n",
              "      <td>5.6</td>\n",
              "      <td>2.4</td>\n",
              "      <td>virginica</td>\n",
              "    </tr>\n",
              "    <tr>\n",
              "      <th>141</th>\n",
              "      <td>6.9</td>\n",
              "      <td>3.1</td>\n",
              "      <td>5.1</td>\n",
              "      <td>2.3</td>\n",
              "      <td>virginica</td>\n",
              "    </tr>\n",
              "    <tr>\n",
              "      <th>143</th>\n",
              "      <td>6.8</td>\n",
              "      <td>3.2</td>\n",
              "      <td>5.9</td>\n",
              "      <td>2.3</td>\n",
              "      <td>virginica</td>\n",
              "    </tr>\n",
              "    <tr>\n",
              "      <th>144</th>\n",
              "      <td>6.7</td>\n",
              "      <td>3.3</td>\n",
              "      <td>5.7</td>\n",
              "      <td>2.5</td>\n",
              "      <td>virginica</td>\n",
              "    </tr>\n",
              "    <tr>\n",
              "      <th>148</th>\n",
              "      <td>6.2</td>\n",
              "      <td>3.4</td>\n",
              "      <td>5.4</td>\n",
              "      <td>2.3</td>\n",
              "      <td>virginica</td>\n",
              "    </tr>\n",
              "  </tbody>\n",
              "</table>\n",
              "<p>71 rows × 5 columns</p>\n",
              "</div>"
            ],
            "text/plain": [
              "     Sepal.Length  Sepal.Width  Petal.Length  Petal.Width     Species\n",
              "0             5.1          3.5           1.4          0.2      setosa\n",
              "2             4.7          3.2           1.3          0.2      setosa\n",
              "3             4.6          3.1           1.5          0.2      setosa\n",
              "4             5.0          3.6           1.4          0.2      setosa\n",
              "5             5.4          3.9           1.7          0.4      setosa\n",
              "6             4.6          3.4           1.4          0.3      setosa\n",
              "7             5.0          3.4           1.5          0.2      setosa\n",
              "9             4.9          3.1           1.5          0.1      setosa\n",
              "10            5.4          3.7           1.5          0.2      setosa\n",
              "11            4.8          3.4           1.6          0.2      setosa\n",
              "14            5.8          4.0           1.2          0.2      setosa\n",
              "15            5.7          4.4           1.5          0.4      setosa\n",
              "16            5.4          3.9           1.3          0.4      setosa\n",
              "17            5.1          3.5           1.4          0.3      setosa\n",
              "18            5.7          3.8           1.7          0.3      setosa\n",
              "19            5.1          3.8           1.5          0.3      setosa\n",
              "20            5.4          3.4           1.7          0.2      setosa\n",
              "21            5.1          3.7           1.5          0.4      setosa\n",
              "22            4.6          3.6           1.0          0.2      setosa\n",
              "23            5.1          3.3           1.7          0.5      setosa\n",
              "24            4.8          3.4           1.9          0.2      setosa\n",
              "26            5.0          3.4           1.6          0.4      setosa\n",
              "27            5.2          3.5           1.5          0.2      setosa\n",
              "28            5.2          3.4           1.4          0.2      setosa\n",
              "29            4.7          3.2           1.6          0.2      setosa\n",
              "30            4.8          3.1           1.6          0.2      setosa\n",
              "31            5.4          3.4           1.5          0.4      setosa\n",
              "32            5.2          4.1           1.5          0.1      setosa\n",
              "33            5.5          4.2           1.4          0.2      setosa\n",
              "34            4.9          3.1           1.5          0.2      setosa\n",
              "..            ...          ...           ...          ...         ...\n",
              "49            5.0          3.3           1.4          0.2      setosa\n",
              "50            7.0          3.2           4.7          1.4  versicolor\n",
              "51            6.4          3.2           4.5          1.5  versicolor\n",
              "52            6.9          3.1           4.9          1.5  versicolor\n",
              "56            6.3          3.3           4.7          1.6  versicolor\n",
              "65            6.7          3.1           4.4          1.4  versicolor\n",
              "70            5.9          3.2           4.8          1.8  versicolor\n",
              "85            6.0          3.4           4.5          1.6  versicolor\n",
              "86            6.7          3.1           4.7          1.5  versicolor\n",
              "100           6.3          3.3           6.0          2.5   virginica\n",
              "105           7.6          3.0           6.6          2.1   virginica\n",
              "109           7.2          3.6           6.1          2.5   virginica\n",
              "110           6.5          3.2           5.1          2.0   virginica\n",
              "115           6.4          3.2           5.3          2.3   virginica\n",
              "117           7.7          3.8           6.7          2.2   virginica\n",
              "118           7.7          2.6           6.9          2.3   virginica\n",
              "120           6.9          3.2           5.7          2.3   virginica\n",
              "122           7.7          2.8           6.7          2.0   virginica\n",
              "124           6.7          3.3           5.7          2.1   virginica\n",
              "125           7.2          3.2           6.0          1.8   virginica\n",
              "131           7.9          3.8           6.4          2.0   virginica\n",
              "135           7.7          3.0           6.1          2.3   virginica\n",
              "136           6.3          3.4           5.6          2.4   virginica\n",
              "137           6.4          3.1           5.5          1.8   virginica\n",
              "139           6.9          3.1           5.4          2.1   virginica\n",
              "140           6.7          3.1           5.6          2.4   virginica\n",
              "141           6.9          3.1           5.1          2.3   virginica\n",
              "143           6.8          3.2           5.9          2.3   virginica\n",
              "144           6.7          3.3           5.7          2.5   virginica\n",
              "148           6.2          3.4           5.4          2.3   virginica\n",
              "\n",
              "[71 rows x 5 columns]"
            ]
          },
          "metadata": {
            "tags": []
          },
          "execution_count": 30
        }
      ]
    },
    {
      "cell_type": "markdown",
      "metadata": {
        "id": "MDmA_O30jwyI",
        "colab_type": "text"
      },
      "source": [
        "### Basic Operations"
      ]
    },
    {
      "cell_type": "code",
      "metadata": {
        "id": "Pn2vWV2pjwyJ",
        "colab_type": "code",
        "outputId": "9a4a3e59-2c99-4837-f75a-2ff2d5839a50",
        "colab": {}
      },
      "source": [
        "# Convert string to datetime series\n",
        "date_strings = ('2017-04-01','2017-04-02','2017-04-03','2017-04-04')\n",
        "\n",
        "pd.to_datetime(pd.Series(date_strings))"
      ],
      "execution_count": 0,
      "outputs": [
        {
          "output_type": "execute_result",
          "data": {
            "text/plain": [
              "0   2017-04-01\n",
              "1   2017-04-02\n",
              "2   2017-04-03\n",
              "3   2017-04-04\n",
              "dtype: datetime64[ns]"
            ]
          },
          "metadata": {
            "tags": []
          },
          "execution_count": 31
        }
      ]
    },
    {
      "cell_type": "code",
      "metadata": {
        "id": "gCGDs2R_jwyM",
        "colab_type": "code",
        "colab": {
          "base_uri": "https://localhost:8080/",
          "height": 391
        },
        "outputId": "39936971-8129-4484-e4cc-8c65e1a508a8"
      },
      "source": [
        "# Rename a specific column name\n",
        "df.rename(columns={'Sepal.Length':'Sepal_Length'}, inplace=True)\n",
        "\n",
        "# Rename all the column names\n",
        "df.columns = ['Sepal_Length', 'Sepal_Width', 'Petal_Length', 'Petal_Width', 'Species']\n",
        "df"
      ],
      "execution_count": 63,
      "outputs": [
        {
          "output_type": "execute_result",
          "data": {
            "text/html": [
              "<div>\n",
              "<style scoped>\n",
              "    .dataframe tbody tr th:only-of-type {\n",
              "        vertical-align: middle;\n",
              "    }\n",
              "\n",
              "    .dataframe tbody tr th {\n",
              "        vertical-align: top;\n",
              "    }\n",
              "\n",
              "    .dataframe thead th {\n",
              "        text-align: right;\n",
              "    }\n",
              "</style>\n",
              "<table border=\"1\" class=\"dataframe\">\n",
              "  <thead>\n",
              "    <tr style=\"text-align: right;\">\n",
              "      <th></th>\n",
              "      <th>Sepal_Length</th>\n",
              "      <th>Sepal_Width</th>\n",
              "      <th>Petal_Length</th>\n",
              "      <th>Petal_Width</th>\n",
              "      <th>Species</th>\n",
              "    </tr>\n",
              "  </thead>\n",
              "  <tbody>\n",
              "    <tr>\n",
              "      <th>0</th>\n",
              "      <td>5.1</td>\n",
              "      <td>3.5</td>\n",
              "      <td>1.4</td>\n",
              "      <td>0.2</td>\n",
              "      <td>setosa</td>\n",
              "    </tr>\n",
              "    <tr>\n",
              "      <th>1</th>\n",
              "      <td>4.9</td>\n",
              "      <td>3.0</td>\n",
              "      <td>1.4</td>\n",
              "      <td>0.2</td>\n",
              "      <td>setosa</td>\n",
              "    </tr>\n",
              "    <tr>\n",
              "      <th>2</th>\n",
              "      <td>4.7</td>\n",
              "      <td>3.2</td>\n",
              "      <td>1.3</td>\n",
              "      <td>0.2</td>\n",
              "      <td>setosa</td>\n",
              "    </tr>\n",
              "    <tr>\n",
              "      <th>3</th>\n",
              "      <td>4.6</td>\n",
              "      <td>3.1</td>\n",
              "      <td>1.5</td>\n",
              "      <td>0.2</td>\n",
              "      <td>setosa</td>\n",
              "    </tr>\n",
              "    <tr>\n",
              "      <th>4</th>\n",
              "      <td>5.0</td>\n",
              "      <td>3.6</td>\n",
              "      <td>1.4</td>\n",
              "      <td>0.2</td>\n",
              "      <td>setosa</td>\n",
              "    </tr>\n",
              "    <tr>\n",
              "      <th>...</th>\n",
              "      <td>...</td>\n",
              "      <td>...</td>\n",
              "      <td>...</td>\n",
              "      <td>...</td>\n",
              "      <td>...</td>\n",
              "    </tr>\n",
              "    <tr>\n",
              "      <th>145</th>\n",
              "      <td>6.7</td>\n",
              "      <td>3.0</td>\n",
              "      <td>5.2</td>\n",
              "      <td>2.3</td>\n",
              "      <td>virginica</td>\n",
              "    </tr>\n",
              "    <tr>\n",
              "      <th>146</th>\n",
              "      <td>6.3</td>\n",
              "      <td>2.5</td>\n",
              "      <td>5.0</td>\n",
              "      <td>1.9</td>\n",
              "      <td>virginica</td>\n",
              "    </tr>\n",
              "    <tr>\n",
              "      <th>147</th>\n",
              "      <td>6.5</td>\n",
              "      <td>3.0</td>\n",
              "      <td>5.2</td>\n",
              "      <td>2.0</td>\n",
              "      <td>virginica</td>\n",
              "    </tr>\n",
              "    <tr>\n",
              "      <th>148</th>\n",
              "      <td>6.2</td>\n",
              "      <td>3.4</td>\n",
              "      <td>5.4</td>\n",
              "      <td>2.3</td>\n",
              "      <td>virginica</td>\n",
              "    </tr>\n",
              "    <tr>\n",
              "      <th>149</th>\n",
              "      <td>5.9</td>\n",
              "      <td>3.0</td>\n",
              "      <td>5.1</td>\n",
              "      <td>1.8</td>\n",
              "      <td>virginica</td>\n",
              "    </tr>\n",
              "  </tbody>\n",
              "</table>\n",
              "<p>150 rows × 5 columns</p>\n",
              "</div>"
            ],
            "text/plain": [
              "     Sepal_Length  Sepal_Width  Petal_Length  Petal_Width    Species\n",
              "0             5.1          3.5           1.4          0.2     setosa\n",
              "1             4.9          3.0           1.4          0.2     setosa\n",
              "2             4.7          3.2           1.3          0.2     setosa\n",
              "3             4.6          3.1           1.5          0.2     setosa\n",
              "4             5.0          3.6           1.4          0.2     setosa\n",
              "..            ...          ...           ...          ...        ...\n",
              "145           6.7          3.0           5.2          2.3  virginica\n",
              "146           6.3          2.5           5.0          1.9  virginica\n",
              "147           6.5          3.0           5.2          2.0  virginica\n",
              "148           6.2          3.4           5.4          2.3  virginica\n",
              "149           5.9          3.0           5.1          1.8  virginica\n",
              "\n",
              "[150 rows x 5 columns]"
            ]
          },
          "metadata": {
            "tags": []
          },
          "execution_count": 63
        }
      ]
    },
    {
      "cell_type": "code",
      "metadata": {
        "id": "KeG8fouwjwyO",
        "colab_type": "code",
        "outputId": "64a9c0b7-c77c-4ca6-d8c7-ad03b967ea69",
        "colab": {
          "base_uri": "https://localhost:8080/",
          "height": 536
        }
      },
      "source": [
        "# Remove duplicates\n",
        "\n",
        "raw_data = {'first_name': ['Amy', 'Amy', 'Jason', 'Nick', 'Stephen','Amy'],\n",
        "        'last_name': ['Jackson', 'J', 'Miller', 'Milner', 'L','J'],\n",
        "        'age': [42, 42, 36, 24, 24, 42]}\n",
        "df = pd.DataFrame(raw_data, columns = ['first_name', 'last_name', 'age'])\n",
        "print (df)\n",
        "print('----------------')\n",
        "print (df.duplicated())\n",
        "print('----------------')\n",
        "print (df.drop_duplicates())\n",
        "print('----------------')\n",
        "\n",
        "# Drop duplicates in the first name column, but take the first obs in the duplicated set.\n",
        "# To retian last obs of duplidate, change the keep option to 'last'\n",
        "df.drop_duplicates(['first_name'], keep='last')\n"
      ],
      "execution_count": 65,
      "outputs": [
        {
          "output_type": "stream",
          "text": [
            "  first_name last_name  age\n",
            "0        Amy   Jackson   42\n",
            "1        Amy         J   42\n",
            "2      Jason    Miller   36\n",
            "3       Nick    Milner   24\n",
            "4    Stephen         L   24\n",
            "5        Amy         J   42\n",
            "----------------\n",
            "0    False\n",
            "1    False\n",
            "2    False\n",
            "3    False\n",
            "4    False\n",
            "5     True\n",
            "dtype: bool\n",
            "----------------\n",
            "  first_name last_name  age\n",
            "0        Amy   Jackson   42\n",
            "1        Amy         J   42\n",
            "2      Jason    Miller   36\n",
            "3       Nick    Milner   24\n",
            "4    Stephen         L   24\n",
            "----------------\n"
          ],
          "name": "stdout"
        },
        {
          "output_type": "execute_result",
          "data": {
            "text/html": [
              "<div>\n",
              "<style scoped>\n",
              "    .dataframe tbody tr th:only-of-type {\n",
              "        vertical-align: middle;\n",
              "    }\n",
              "\n",
              "    .dataframe tbody tr th {\n",
              "        vertical-align: top;\n",
              "    }\n",
              "\n",
              "    .dataframe thead th {\n",
              "        text-align: right;\n",
              "    }\n",
              "</style>\n",
              "<table border=\"1\" class=\"dataframe\">\n",
              "  <thead>\n",
              "    <tr style=\"text-align: right;\">\n",
              "      <th></th>\n",
              "      <th>first_name</th>\n",
              "      <th>last_name</th>\n",
              "      <th>age</th>\n",
              "    </tr>\n",
              "  </thead>\n",
              "  <tbody>\n",
              "    <tr>\n",
              "      <th>2</th>\n",
              "      <td>Jason</td>\n",
              "      <td>Miller</td>\n",
              "      <td>36</td>\n",
              "    </tr>\n",
              "    <tr>\n",
              "      <th>3</th>\n",
              "      <td>Nick</td>\n",
              "      <td>Milner</td>\n",
              "      <td>24</td>\n",
              "    </tr>\n",
              "    <tr>\n",
              "      <th>4</th>\n",
              "      <td>Stephen</td>\n",
              "      <td>L</td>\n",
              "      <td>24</td>\n",
              "    </tr>\n",
              "    <tr>\n",
              "      <th>5</th>\n",
              "      <td>Amy</td>\n",
              "      <td>J</td>\n",
              "      <td>42</td>\n",
              "    </tr>\n",
              "  </tbody>\n",
              "</table>\n",
              "</div>"
            ],
            "text/plain": [
              "  first_name last_name  age\n",
              "2      Jason    Miller   36\n",
              "3       Nick    Milner   24\n",
              "4    Stephen         L   24\n",
              "5        Amy         J   42"
            ]
          },
          "metadata": {
            "tags": []
          },
          "execution_count": 65
        }
      ]
    },
    {
      "cell_type": "code",
      "metadata": {
        "id": "5sUwQIlXjwyR",
        "colab_type": "code",
        "outputId": "091c48d6-ce1b-4b61-a84a-c314c00f6658",
        "colab": {
          "base_uri": "https://localhost:8080/",
          "height": 220
        }
      },
      "source": [
        "# Creating new column from existing column\n",
        "\n",
        "df['age_plus_5'] = df['age'] + 5\n",
        "df\n",
        "\n",
        "# Creating new column from elements of two columns\n",
        "df['full_name'] = df['first_name'] + '_' + df['last_name']\n",
        "df\n",
        "\n",
        "# adding a list a new column to DataFrame\n",
        "df['gender'] = pd.Series(['F','F','M','M','M','F'])\n",
        "df"
      ],
      "execution_count": 66,
      "outputs": [
        {
          "output_type": "execute_result",
          "data": {
            "text/html": [
              "<div>\n",
              "<style scoped>\n",
              "    .dataframe tbody tr th:only-of-type {\n",
              "        vertical-align: middle;\n",
              "    }\n",
              "\n",
              "    .dataframe tbody tr th {\n",
              "        vertical-align: top;\n",
              "    }\n",
              "\n",
              "    .dataframe thead th {\n",
              "        text-align: right;\n",
              "    }\n",
              "</style>\n",
              "<table border=\"1\" class=\"dataframe\">\n",
              "  <thead>\n",
              "    <tr style=\"text-align: right;\">\n",
              "      <th></th>\n",
              "      <th>first_name</th>\n",
              "      <th>last_name</th>\n",
              "      <th>age</th>\n",
              "      <th>age_plus_5</th>\n",
              "      <th>full_name</th>\n",
              "      <th>gender</th>\n",
              "    </tr>\n",
              "  </thead>\n",
              "  <tbody>\n",
              "    <tr>\n",
              "      <th>0</th>\n",
              "      <td>Amy</td>\n",
              "      <td>Jackson</td>\n",
              "      <td>42</td>\n",
              "      <td>47</td>\n",
              "      <td>Amy_Jackson</td>\n",
              "      <td>F</td>\n",
              "    </tr>\n",
              "    <tr>\n",
              "      <th>1</th>\n",
              "      <td>Amy</td>\n",
              "      <td>J</td>\n",
              "      <td>42</td>\n",
              "      <td>47</td>\n",
              "      <td>Amy_J</td>\n",
              "      <td>F</td>\n",
              "    </tr>\n",
              "    <tr>\n",
              "      <th>2</th>\n",
              "      <td>Jason</td>\n",
              "      <td>Miller</td>\n",
              "      <td>36</td>\n",
              "      <td>41</td>\n",
              "      <td>Jason_Miller</td>\n",
              "      <td>M</td>\n",
              "    </tr>\n",
              "    <tr>\n",
              "      <th>3</th>\n",
              "      <td>Nick</td>\n",
              "      <td>Milner</td>\n",
              "      <td>24</td>\n",
              "      <td>29</td>\n",
              "      <td>Nick_Milner</td>\n",
              "      <td>M</td>\n",
              "    </tr>\n",
              "    <tr>\n",
              "      <th>4</th>\n",
              "      <td>Stephen</td>\n",
              "      <td>L</td>\n",
              "      <td>24</td>\n",
              "      <td>29</td>\n",
              "      <td>Stephen_L</td>\n",
              "      <td>M</td>\n",
              "    </tr>\n",
              "    <tr>\n",
              "      <th>5</th>\n",
              "      <td>Amy</td>\n",
              "      <td>J</td>\n",
              "      <td>42</td>\n",
              "      <td>47</td>\n",
              "      <td>Amy_J</td>\n",
              "      <td>F</td>\n",
              "    </tr>\n",
              "  </tbody>\n",
              "</table>\n",
              "</div>"
            ],
            "text/plain": [
              "  first_name last_name  age  age_plus_5     full_name gender\n",
              "0        Amy   Jackson   42          47   Amy_Jackson      F\n",
              "1        Amy         J   42          47         Amy_J      F\n",
              "2      Jason    Miller   36          41  Jason_Miller      M\n",
              "3       Nick    Milner   24          29   Nick_Milner      M\n",
              "4    Stephen         L   24          29     Stephen_L      M\n",
              "5        Amy         J   42          47         Amy_J      F"
            ]
          },
          "metadata": {
            "tags": []
          },
          "execution_count": 66
        }
      ]
    },
    {
      "cell_type": "markdown",
      "metadata": {
        "id": "M0yktgnzjwyT",
        "colab_type": "text"
      },
      "source": [
        "### Missing Data\n",
        "\n",
        "pandas primarily uses the value np.nan to represent missing data. It is by default not included in computations. "
      ]
    },
    {
      "cell_type": "code",
      "metadata": {
        "id": "hF4x7lYZjwyU",
        "colab_type": "code",
        "outputId": "21413506-8760-4b82-aaa7-af71a9b34b19",
        "colab": {
          "base_uri": "https://localhost:8080/",
          "height": 261
        }
      },
      "source": [
        "# Lets introduce missing data to our table\n",
        "df.iloc[4,2] = np.nan\n",
        "\n",
        "print(\"---------With NA's-------\")\n",
        "print (df)\n",
        "\n",
        "print(\"---------After dropping NA's-----------\")\n",
        "# drop rows or columns having missing data\n",
        "print (df.dropna())"
      ],
      "execution_count": 67,
      "outputs": [
        {
          "output_type": "stream",
          "text": [
            "---------With NA's-------\n",
            "  first_name last_name   age  age_plus_5     full_name gender\n",
            "0        Amy   Jackson  42.0          47   Amy_Jackson      F\n",
            "1        Amy         J  42.0          47         Amy_J      F\n",
            "2      Jason    Miller  36.0          41  Jason_Miller      M\n",
            "3       Nick    Milner  24.0          29   Nick_Milner      M\n",
            "4    Stephen         L   NaN          29     Stephen_L      M\n",
            "5        Amy         J  42.0          47         Amy_J      F\n",
            "---------After dropping NA's-----------\n",
            "  first_name last_name   age  age_plus_5     full_name gender\n",
            "0        Amy   Jackson  42.0          47   Amy_Jackson      F\n",
            "1        Amy         J  42.0          47         Amy_J      F\n",
            "2      Jason    Miller  36.0          41  Jason_Miller      M\n",
            "3       Nick    Milner  24.0          29   Nick_Milner      M\n",
            "5        Amy         J  42.0          47         Amy_J      F\n"
          ],
          "name": "stdout"
        }
      ]
    },
    {
      "cell_type": "code",
      "metadata": {
        "id": "YKh9MncpjwyX",
        "colab_type": "code",
        "outputId": "476bdc79-7eac-4856-a39b-63da272cff4a",
        "colab": {
          "base_uri": "https://localhost:8080/",
          "height": 366
        }
      },
      "source": [
        "# Lets introduce missing data to our table\n",
        "df.iloc[4,2] = np.nan\n",
        "\n",
        "print(\"---------With NA's-------\")\n",
        "print (df)\n",
        "\n",
        "print(\"---------After replacing NA's with 0-----------\")\n",
        "# replaces all missing values with 0\n",
        "df.fillna(value=0)"
      ],
      "execution_count": 68,
      "outputs": [
        {
          "output_type": "stream",
          "text": [
            "---------With NA's-------\n",
            "  first_name last_name   age  age_plus_5     full_name gender\n",
            "0        Amy   Jackson  42.0          47   Amy_Jackson      F\n",
            "1        Amy         J  42.0          47         Amy_J      F\n",
            "2      Jason    Miller  36.0          41  Jason_Miller      M\n",
            "3       Nick    Milner  24.0          29   Nick_Milner      M\n",
            "4    Stephen         L   NaN          29     Stephen_L      M\n",
            "5        Amy         J  42.0          47         Amy_J      F\n",
            "---------After replacing NA's with 0-----------\n"
          ],
          "name": "stdout"
        },
        {
          "output_type": "execute_result",
          "data": {
            "text/html": [
              "<div>\n",
              "<style scoped>\n",
              "    .dataframe tbody tr th:only-of-type {\n",
              "        vertical-align: middle;\n",
              "    }\n",
              "\n",
              "    .dataframe tbody tr th {\n",
              "        vertical-align: top;\n",
              "    }\n",
              "\n",
              "    .dataframe thead th {\n",
              "        text-align: right;\n",
              "    }\n",
              "</style>\n",
              "<table border=\"1\" class=\"dataframe\">\n",
              "  <thead>\n",
              "    <tr style=\"text-align: right;\">\n",
              "      <th></th>\n",
              "      <th>first_name</th>\n",
              "      <th>last_name</th>\n",
              "      <th>age</th>\n",
              "      <th>age_plus_5</th>\n",
              "      <th>full_name</th>\n",
              "      <th>gender</th>\n",
              "    </tr>\n",
              "  </thead>\n",
              "  <tbody>\n",
              "    <tr>\n",
              "      <th>0</th>\n",
              "      <td>Amy</td>\n",
              "      <td>Jackson</td>\n",
              "      <td>42.0</td>\n",
              "      <td>47</td>\n",
              "      <td>Amy_Jackson</td>\n",
              "      <td>F</td>\n",
              "    </tr>\n",
              "    <tr>\n",
              "      <th>1</th>\n",
              "      <td>Amy</td>\n",
              "      <td>J</td>\n",
              "      <td>42.0</td>\n",
              "      <td>47</td>\n",
              "      <td>Amy_J</td>\n",
              "      <td>F</td>\n",
              "    </tr>\n",
              "    <tr>\n",
              "      <th>2</th>\n",
              "      <td>Jason</td>\n",
              "      <td>Miller</td>\n",
              "      <td>36.0</td>\n",
              "      <td>41</td>\n",
              "      <td>Jason_Miller</td>\n",
              "      <td>M</td>\n",
              "    </tr>\n",
              "    <tr>\n",
              "      <th>3</th>\n",
              "      <td>Nick</td>\n",
              "      <td>Milner</td>\n",
              "      <td>24.0</td>\n",
              "      <td>29</td>\n",
              "      <td>Nick_Milner</td>\n",
              "      <td>M</td>\n",
              "    </tr>\n",
              "    <tr>\n",
              "      <th>4</th>\n",
              "      <td>Stephen</td>\n",
              "      <td>L</td>\n",
              "      <td>0.0</td>\n",
              "      <td>29</td>\n",
              "      <td>Stephen_L</td>\n",
              "      <td>M</td>\n",
              "    </tr>\n",
              "    <tr>\n",
              "      <th>5</th>\n",
              "      <td>Amy</td>\n",
              "      <td>J</td>\n",
              "      <td>42.0</td>\n",
              "      <td>47</td>\n",
              "      <td>Amy_J</td>\n",
              "      <td>F</td>\n",
              "    </tr>\n",
              "  </tbody>\n",
              "</table>\n",
              "</div>"
            ],
            "text/plain": [
              "  first_name last_name   age  age_plus_5     full_name gender\n",
              "0        Amy   Jackson  42.0          47   Amy_Jackson      F\n",
              "1        Amy         J  42.0          47         Amy_J      F\n",
              "2      Jason    Miller  36.0          41  Jason_Miller      M\n",
              "3       Nick    Milner  24.0          29   Nick_Milner      M\n",
              "4    Stephen         L   0.0          29     Stephen_L      M\n",
              "5        Amy         J  42.0          47         Amy_J      F"
            ]
          },
          "metadata": {
            "tags": []
          },
          "execution_count": 68
        }
      ]
    },
    {
      "cell_type": "code",
      "metadata": {
        "id": "2mboxY0Ejwyb",
        "colab_type": "code",
        "outputId": "59227c93-4638-4e05-cf85-3317f9aad136",
        "colab": {
          "base_uri": "https://localhost:8080/",
          "height": 366
        }
      },
      "source": [
        "# Lets introduce missing data to our table\n",
        "df.iloc[4,2] = np.nan\n",
        "\n",
        "print(\"---------With NA's-------\")\n",
        "print (df)\n",
        "\n",
        "print(\"----------Missing Value Flag----------\")\n",
        "# Check missing value condition and return boolean value of true or false for each cell\n",
        "pd.isnull(df)"
      ],
      "execution_count": 69,
      "outputs": [
        {
          "output_type": "stream",
          "text": [
            "---------With NA's-------\n",
            "  first_name last_name   age  age_plus_5     full_name gender\n",
            "0        Amy   Jackson  42.0          47   Amy_Jackson      F\n",
            "1        Amy         J  42.0          47         Amy_J      F\n",
            "2      Jason    Miller  36.0          41  Jason_Miller      M\n",
            "3       Nick    Milner  24.0          29   Nick_Milner      M\n",
            "4    Stephen         L   NaN          29     Stephen_L      M\n",
            "5        Amy         J  42.0          47         Amy_J      F\n",
            "----------Missing Value Flag----------\n"
          ],
          "name": "stdout"
        },
        {
          "output_type": "execute_result",
          "data": {
            "text/html": [
              "<div>\n",
              "<style scoped>\n",
              "    .dataframe tbody tr th:only-of-type {\n",
              "        vertical-align: middle;\n",
              "    }\n",
              "\n",
              "    .dataframe tbody tr th {\n",
              "        vertical-align: top;\n",
              "    }\n",
              "\n",
              "    .dataframe thead th {\n",
              "        text-align: right;\n",
              "    }\n",
              "</style>\n",
              "<table border=\"1\" class=\"dataframe\">\n",
              "  <thead>\n",
              "    <tr style=\"text-align: right;\">\n",
              "      <th></th>\n",
              "      <th>first_name</th>\n",
              "      <th>last_name</th>\n",
              "      <th>age</th>\n",
              "      <th>age_plus_5</th>\n",
              "      <th>full_name</th>\n",
              "      <th>gender</th>\n",
              "    </tr>\n",
              "  </thead>\n",
              "  <tbody>\n",
              "    <tr>\n",
              "      <th>0</th>\n",
              "      <td>False</td>\n",
              "      <td>False</td>\n",
              "      <td>False</td>\n",
              "      <td>False</td>\n",
              "      <td>False</td>\n",
              "      <td>False</td>\n",
              "    </tr>\n",
              "    <tr>\n",
              "      <th>1</th>\n",
              "      <td>False</td>\n",
              "      <td>False</td>\n",
              "      <td>False</td>\n",
              "      <td>False</td>\n",
              "      <td>False</td>\n",
              "      <td>False</td>\n",
              "    </tr>\n",
              "    <tr>\n",
              "      <th>2</th>\n",
              "      <td>False</td>\n",
              "      <td>False</td>\n",
              "      <td>False</td>\n",
              "      <td>False</td>\n",
              "      <td>False</td>\n",
              "      <td>False</td>\n",
              "    </tr>\n",
              "    <tr>\n",
              "      <th>3</th>\n",
              "      <td>False</td>\n",
              "      <td>False</td>\n",
              "      <td>False</td>\n",
              "      <td>False</td>\n",
              "      <td>False</td>\n",
              "      <td>False</td>\n",
              "    </tr>\n",
              "    <tr>\n",
              "      <th>4</th>\n",
              "      <td>False</td>\n",
              "      <td>False</td>\n",
              "      <td>True</td>\n",
              "      <td>False</td>\n",
              "      <td>False</td>\n",
              "      <td>False</td>\n",
              "    </tr>\n",
              "    <tr>\n",
              "      <th>5</th>\n",
              "      <td>False</td>\n",
              "      <td>False</td>\n",
              "      <td>False</td>\n",
              "      <td>False</td>\n",
              "      <td>False</td>\n",
              "      <td>False</td>\n",
              "    </tr>\n",
              "  </tbody>\n",
              "</table>\n",
              "</div>"
            ],
            "text/plain": [
              "   first_name  last_name    age  age_plus_5  full_name  gender\n",
              "0       False      False  False       False      False   False\n",
              "1       False      False  False       False      False   False\n",
              "2       False      False  False       False      False   False\n",
              "3       False      False  False       False      False   False\n",
              "4       False      False   True       False      False   False\n",
              "5       False      False  False       False      False   False"
            ]
          },
          "metadata": {
            "tags": []
          },
          "execution_count": 69
        }
      ]
    },
    {
      "cell_type": "code",
      "metadata": {
        "id": "iY2GX4rqjwyf",
        "colab_type": "code",
        "outputId": "a6c46579-895c-46e6-85bf-85c1a9afe569",
        "colab": {}
      },
      "source": [
        "# Replace all missing values for a given column with its mean\n",
        "mean=df['age'].mean() # calculate mean for 'age'\n",
        "\n",
        "df['age'].fillna(mean)"
      ],
      "execution_count": 0,
      "outputs": [
        {
          "output_type": "execute_result",
          "data": {
            "text/plain": [
              "0    42.0\n",
              "1    42.0\n",
              "2    36.0\n",
              "3    24.0\n",
              "4    37.2\n",
              "5    42.0\n",
              "Name: age, dtype: float64"
            ]
          },
          "metadata": {
            "tags": []
          },
          "execution_count": 38
        }
      ]
    },
    {
      "cell_type": "code",
      "metadata": {
        "id": "uGPr9Fabjwyo",
        "colab_type": "code",
        "colab": {
          "base_uri": "https://localhost:8080/",
          "height": 220
        },
        "outputId": "12f99bc9-8d83-4cb6-a663-5d3a3c3703ca"
      },
      "source": [
        "# Replace missing values with last valid observation. This is useful in time series scenarios. \n",
        "# For example if you have a temperature data, you might want to fill the missing values with the \n",
        "# previous (or last) available hour rather than with mean as the temperature might not change drastically compared to previous hour\n",
        "\n",
        "# There are mainly two methods available\n",
        "# pad / ffill - forward fill\n",
        "# bfill / backfill - backward fill\n",
        "# limit: If method is specified, this is the maximum number of consecutive NaN values to forward/backward fill\n",
        "df.fillna(method='ffill', inplace=True, limit = 1)\n",
        "df"
      ],
      "execution_count": 71,
      "outputs": [
        {
          "output_type": "execute_result",
          "data": {
            "text/html": [
              "<div>\n",
              "<style scoped>\n",
              "    .dataframe tbody tr th:only-of-type {\n",
              "        vertical-align: middle;\n",
              "    }\n",
              "\n",
              "    .dataframe tbody tr th {\n",
              "        vertical-align: top;\n",
              "    }\n",
              "\n",
              "    .dataframe thead th {\n",
              "        text-align: right;\n",
              "    }\n",
              "</style>\n",
              "<table border=\"1\" class=\"dataframe\">\n",
              "  <thead>\n",
              "    <tr style=\"text-align: right;\">\n",
              "      <th></th>\n",
              "      <th>first_name</th>\n",
              "      <th>last_name</th>\n",
              "      <th>age</th>\n",
              "      <th>age_plus_5</th>\n",
              "      <th>full_name</th>\n",
              "      <th>gender</th>\n",
              "    </tr>\n",
              "  </thead>\n",
              "  <tbody>\n",
              "    <tr>\n",
              "      <th>0</th>\n",
              "      <td>Amy</td>\n",
              "      <td>Jackson</td>\n",
              "      <td>42.0</td>\n",
              "      <td>47</td>\n",
              "      <td>Amy_Jackson</td>\n",
              "      <td>F</td>\n",
              "    </tr>\n",
              "    <tr>\n",
              "      <th>1</th>\n",
              "      <td>Amy</td>\n",
              "      <td>J</td>\n",
              "      <td>42.0</td>\n",
              "      <td>47</td>\n",
              "      <td>Amy_J</td>\n",
              "      <td>F</td>\n",
              "    </tr>\n",
              "    <tr>\n",
              "      <th>2</th>\n",
              "      <td>Jason</td>\n",
              "      <td>Miller</td>\n",
              "      <td>36.0</td>\n",
              "      <td>41</td>\n",
              "      <td>Jason_Miller</td>\n",
              "      <td>M</td>\n",
              "    </tr>\n",
              "    <tr>\n",
              "      <th>3</th>\n",
              "      <td>Nick</td>\n",
              "      <td>Milner</td>\n",
              "      <td>24.0</td>\n",
              "      <td>29</td>\n",
              "      <td>Nick_Milner</td>\n",
              "      <td>M</td>\n",
              "    </tr>\n",
              "    <tr>\n",
              "      <th>4</th>\n",
              "      <td>Stephen</td>\n",
              "      <td>L</td>\n",
              "      <td>24.0</td>\n",
              "      <td>29</td>\n",
              "      <td>Stephen_L</td>\n",
              "      <td>M</td>\n",
              "    </tr>\n",
              "    <tr>\n",
              "      <th>5</th>\n",
              "      <td>Amy</td>\n",
              "      <td>J</td>\n",
              "      <td>42.0</td>\n",
              "      <td>47</td>\n",
              "      <td>Amy_J</td>\n",
              "      <td>F</td>\n",
              "    </tr>\n",
              "  </tbody>\n",
              "</table>\n",
              "</div>"
            ],
            "text/plain": [
              "  first_name last_name   age  age_plus_5     full_name gender\n",
              "0        Amy   Jackson  42.0          47   Amy_Jackson      F\n",
              "1        Amy         J  42.0          47         Amy_J      F\n",
              "2      Jason    Miller  36.0          41  Jason_Miller      M\n",
              "3       Nick    Milner  24.0          29   Nick_Milner      M\n",
              "4    Stephen         L  24.0          29     Stephen_L      M\n",
              "5        Amy         J  42.0          47         Amy_J      F"
            ]
          },
          "metadata": {
            "tags": []
          },
          "execution_count": 71
        }
      ]
    },
    {
      "cell_type": "markdown",
      "metadata": {
        "id": "iaGKuYeJjwyt",
        "colab_type": "text"
      },
      "source": [
        "### Operations"
      ]
    },
    {
      "cell_type": "code",
      "metadata": {
        "id": "L9S2RG47jwyu",
        "colab_type": "code",
        "outputId": "df8b0b2f-d9c7-479d-e0d3-1fb10263f3f5",
        "colab": {
          "base_uri": "https://localhost:8080/",
          "height": 66
        }
      },
      "source": [
        "# Return mean for each column\n",
        "df.mean()"
      ],
      "execution_count": 72,
      "outputs": [
        {
          "output_type": "execute_result",
          "data": {
            "text/plain": [
              "age           35.0\n",
              "age_plus_5    40.0\n",
              "dtype: float64"
            ]
          },
          "metadata": {
            "tags": []
          },
          "execution_count": 72
        }
      ]
    },
    {
      "cell_type": "code",
      "metadata": {
        "id": "FNxxQcsnjwyy",
        "colab_type": "code",
        "outputId": "91f15929-0c73-49e6-a128-11fcfab67331",
        "colab": {
          "base_uri": "https://localhost:8080/",
          "height": 131
        }
      },
      "source": [
        "# Return min for each column\n",
        "df.min()"
      ],
      "execution_count": 73,
      "outputs": [
        {
          "output_type": "execute_result",
          "data": {
            "text/plain": [
              "first_name      Amy\n",
              "last_name         J\n",
              "age              24\n",
              "age_plus_5       29\n",
              "full_name     Amy_J\n",
              "gender            F\n",
              "dtype: object"
            ]
          },
          "metadata": {
            "tags": []
          },
          "execution_count": 73
        }
      ]
    },
    {
      "cell_type": "code",
      "metadata": {
        "id": "bSEWg1EXjwy2",
        "colab_type": "code",
        "outputId": "de793015-fa52-4810-f7c9-77705cb32c37",
        "colab": {
          "base_uri": "https://localhost:8080/",
          "height": 131
        }
      },
      "source": [
        "df.max()"
      ],
      "execution_count": 74,
      "outputs": [
        {
          "output_type": "execute_result",
          "data": {
            "text/plain": [
              "first_name      Stephen\n",
              "last_name        Milner\n",
              "age                  42\n",
              "age_plus_5           47\n",
              "full_name     Stephen_L\n",
              "gender                M\n",
              "dtype: object"
            ]
          },
          "metadata": {
            "tags": []
          },
          "execution_count": 74
        }
      ]
    },
    {
      "cell_type": "code",
      "metadata": {
        "id": "KqsI_DK-jwy6",
        "colab_type": "code",
        "outputId": "d06a0864-0def-4a07-8937-3bebf2d9afe2",
        "colab": {
          "base_uri": "https://localhost:8080/",
          "height": 245
        }
      },
      "source": [
        "# Return sum for each column\n",
        "print (df)\n",
        "df.sum()"
      ],
      "execution_count": 79,
      "outputs": [
        {
          "output_type": "stream",
          "text": [
            "  first_name last_name   age  age_plus_5     full_name gender\n",
            "0        Amy   Jackson  42.0          47   Amy_Jackson      F\n",
            "1        Amy         J  42.0          47         Amy_J      F\n",
            "2      Jason    Miller  36.0          41  Jason_Miller      M\n",
            "3       Nick    Milner  24.0          29   Nick_Milner      M\n",
            "4    Stephen         L  24.0          29     Stephen_L      M\n",
            "5        Amy         J  42.0          47         Amy_J      F\n"
          ],
          "name": "stdout"
        },
        {
          "output_type": "execute_result",
          "data": {
            "text/plain": [
              "first_name                            AmyAmyJasonNickStephenAmy\n",
              "last_name                                JacksonJMillerMilnerLJ\n",
              "age                                                         210\n",
              "age_plus_5                                                  240\n",
              "full_name     Amy_JacksonAmy_JJason_MillerNick_MilnerStephen...\n",
              "gender                                                   FFMMMF\n",
              "dtype: object"
            ]
          },
          "metadata": {
            "tags": []
          },
          "execution_count": 79
        }
      ]
    },
    {
      "cell_type": "code",
      "metadata": {
        "id": "SB4kJkKFjwy-",
        "colab_type": "code",
        "outputId": "1ea42556-c3eb-4a4a-b43c-2a8b9840c80f",
        "colab": {
          "base_uri": "https://localhost:8080/",
          "height": 131
        }
      },
      "source": [
        "# Return count for each column\n",
        "df.count()"
      ],
      "execution_count": 80,
      "outputs": [
        {
          "output_type": "execute_result",
          "data": {
            "text/plain": [
              "first_name    6\n",
              "last_name     6\n",
              "age           6\n",
              "age_plus_5    6\n",
              "full_name     6\n",
              "gender        6\n",
              "dtype: int64"
            ]
          },
          "metadata": {
            "tags": []
          },
          "execution_count": 80
        }
      ]
    },
    {
      "cell_type": "code",
      "metadata": {
        "id": "uZiaFgoRjwzA",
        "colab_type": "code",
        "outputId": "e8bf236e-aad6-4fb4-dc20-34877f4e512d",
        "colab": {
          "base_uri": "https://localhost:8080/",
          "height": 220
        }
      },
      "source": [
        "# Return cummulative sum for each row\n",
        "df.cumsum()"
      ],
      "execution_count": 81,
      "outputs": [
        {
          "output_type": "execute_result",
          "data": {
            "text/html": [
              "<div>\n",
              "<style scoped>\n",
              "    .dataframe tbody tr th:only-of-type {\n",
              "        vertical-align: middle;\n",
              "    }\n",
              "\n",
              "    .dataframe tbody tr th {\n",
              "        vertical-align: top;\n",
              "    }\n",
              "\n",
              "    .dataframe thead th {\n",
              "        text-align: right;\n",
              "    }\n",
              "</style>\n",
              "<table border=\"1\" class=\"dataframe\">\n",
              "  <thead>\n",
              "    <tr style=\"text-align: right;\">\n",
              "      <th></th>\n",
              "      <th>first_name</th>\n",
              "      <th>last_name</th>\n",
              "      <th>age</th>\n",
              "      <th>age_plus_5</th>\n",
              "      <th>full_name</th>\n",
              "      <th>gender</th>\n",
              "    </tr>\n",
              "  </thead>\n",
              "  <tbody>\n",
              "    <tr>\n",
              "      <th>0</th>\n",
              "      <td>Amy</td>\n",
              "      <td>Jackson</td>\n",
              "      <td>42.0</td>\n",
              "      <td>47</td>\n",
              "      <td>Amy_Jackson</td>\n",
              "      <td>F</td>\n",
              "    </tr>\n",
              "    <tr>\n",
              "      <th>1</th>\n",
              "      <td>AmyAmy</td>\n",
              "      <td>JacksonJ</td>\n",
              "      <td>84.0</td>\n",
              "      <td>94</td>\n",
              "      <td>Amy_JacksonAmy_J</td>\n",
              "      <td>FF</td>\n",
              "    </tr>\n",
              "    <tr>\n",
              "      <th>2</th>\n",
              "      <td>AmyAmyJason</td>\n",
              "      <td>JacksonJMiller</td>\n",
              "      <td>120.0</td>\n",
              "      <td>135</td>\n",
              "      <td>Amy_JacksonAmy_JJason_Miller</td>\n",
              "      <td>FFM</td>\n",
              "    </tr>\n",
              "    <tr>\n",
              "      <th>3</th>\n",
              "      <td>AmyAmyJasonNick</td>\n",
              "      <td>JacksonJMillerMilner</td>\n",
              "      <td>144.0</td>\n",
              "      <td>164</td>\n",
              "      <td>Amy_JacksonAmy_JJason_MillerNick_Milner</td>\n",
              "      <td>FFMM</td>\n",
              "    </tr>\n",
              "    <tr>\n",
              "      <th>4</th>\n",
              "      <td>AmyAmyJasonNickStephen</td>\n",
              "      <td>JacksonJMillerMilnerL</td>\n",
              "      <td>168.0</td>\n",
              "      <td>193</td>\n",
              "      <td>Amy_JacksonAmy_JJason_MillerNick_MilnerStephen_L</td>\n",
              "      <td>FFMMM</td>\n",
              "    </tr>\n",
              "    <tr>\n",
              "      <th>5</th>\n",
              "      <td>AmyAmyJasonNickStephenAmy</td>\n",
              "      <td>JacksonJMillerMilnerLJ</td>\n",
              "      <td>210.0</td>\n",
              "      <td>240</td>\n",
              "      <td>Amy_JacksonAmy_JJason_MillerNick_MilnerStephen...</td>\n",
              "      <td>FFMMMF</td>\n",
              "    </tr>\n",
              "  </tbody>\n",
              "</table>\n",
              "</div>"
            ],
            "text/plain": [
              "                  first_name  ...  gender\n",
              "0                        Amy  ...       F\n",
              "1                     AmyAmy  ...      FF\n",
              "2                AmyAmyJason  ...     FFM\n",
              "3            AmyAmyJasonNick  ...    FFMM\n",
              "4     AmyAmyJasonNickStephen  ...   FFMMM\n",
              "5  AmyAmyJasonNickStephenAmy  ...  FFMMMF\n",
              "\n",
              "[6 rows x 6 columns]"
            ]
          },
          "metadata": {
            "tags": []
          },
          "execution_count": 81
        }
      ]
    },
    {
      "cell_type": "markdown",
      "metadata": {
        "id": "ne_hy0MYjwzC",
        "colab_type": "text"
      },
      "source": [
        "### Applying function to element, column or dataframe\n",
        "\n",
        "### Apply"
      ]
    },
    {
      "cell_type": "code",
      "metadata": {
        "id": "fnzvxDdBjwzD",
        "colab_type": "code",
        "outputId": "a121b426-cfc0-4f0a-f31c-1855afd0ed63",
        "colab": {
          "base_uri": "https://localhost:8080/",
          "height": 220
        }
      },
      "source": [
        "# As the name suggests, applies a function along any axis of the DataFrame\n",
        "df.apply(np.cumsum)"
      ],
      "execution_count": 82,
      "outputs": [
        {
          "output_type": "execute_result",
          "data": {
            "text/html": [
              "<div>\n",
              "<style scoped>\n",
              "    .dataframe tbody tr th:only-of-type {\n",
              "        vertical-align: middle;\n",
              "    }\n",
              "\n",
              "    .dataframe tbody tr th {\n",
              "        vertical-align: top;\n",
              "    }\n",
              "\n",
              "    .dataframe thead th {\n",
              "        text-align: right;\n",
              "    }\n",
              "</style>\n",
              "<table border=\"1\" class=\"dataframe\">\n",
              "  <thead>\n",
              "    <tr style=\"text-align: right;\">\n",
              "      <th></th>\n",
              "      <th>first_name</th>\n",
              "      <th>last_name</th>\n",
              "      <th>age</th>\n",
              "      <th>age_plus_5</th>\n",
              "      <th>full_name</th>\n",
              "      <th>gender</th>\n",
              "    </tr>\n",
              "  </thead>\n",
              "  <tbody>\n",
              "    <tr>\n",
              "      <th>0</th>\n",
              "      <td>Amy</td>\n",
              "      <td>Jackson</td>\n",
              "      <td>42.0</td>\n",
              "      <td>47</td>\n",
              "      <td>Amy_Jackson</td>\n",
              "      <td>F</td>\n",
              "    </tr>\n",
              "    <tr>\n",
              "      <th>1</th>\n",
              "      <td>AmyAmy</td>\n",
              "      <td>JacksonJ</td>\n",
              "      <td>84.0</td>\n",
              "      <td>94</td>\n",
              "      <td>Amy_JacksonAmy_J</td>\n",
              "      <td>FF</td>\n",
              "    </tr>\n",
              "    <tr>\n",
              "      <th>2</th>\n",
              "      <td>AmyAmyJason</td>\n",
              "      <td>JacksonJMiller</td>\n",
              "      <td>120.0</td>\n",
              "      <td>135</td>\n",
              "      <td>Amy_JacksonAmy_JJason_Miller</td>\n",
              "      <td>FFM</td>\n",
              "    </tr>\n",
              "    <tr>\n",
              "      <th>3</th>\n",
              "      <td>AmyAmyJasonNick</td>\n",
              "      <td>JacksonJMillerMilner</td>\n",
              "      <td>144.0</td>\n",
              "      <td>164</td>\n",
              "      <td>Amy_JacksonAmy_JJason_MillerNick_Milner</td>\n",
              "      <td>FFMM</td>\n",
              "    </tr>\n",
              "    <tr>\n",
              "      <th>4</th>\n",
              "      <td>AmyAmyJasonNickStephen</td>\n",
              "      <td>JacksonJMillerMilnerL</td>\n",
              "      <td>168.0</td>\n",
              "      <td>193</td>\n",
              "      <td>Amy_JacksonAmy_JJason_MillerNick_MilnerStephen_L</td>\n",
              "      <td>FFMMM</td>\n",
              "    </tr>\n",
              "    <tr>\n",
              "      <th>5</th>\n",
              "      <td>AmyAmyJasonNickStephenAmy</td>\n",
              "      <td>JacksonJMillerMilnerLJ</td>\n",
              "      <td>210.0</td>\n",
              "      <td>240</td>\n",
              "      <td>Amy_JacksonAmy_JJason_MillerNick_MilnerStephen...</td>\n",
              "      <td>FFMMMF</td>\n",
              "    </tr>\n",
              "  </tbody>\n",
              "</table>\n",
              "</div>"
            ],
            "text/plain": [
              "                  first_name  ...  gender\n",
              "0                        Amy  ...       F\n",
              "1                     AmyAmy  ...      FF\n",
              "2                AmyAmyJason  ...     FFM\n",
              "3            AmyAmyJasonNick  ...    FFMM\n",
              "4     AmyAmyJasonNickStephen  ...   FFMMM\n",
              "5  AmyAmyJasonNickStephenAmy  ...  FFMMMF\n",
              "\n",
              "[6 rows x 6 columns]"
            ]
          },
          "metadata": {
            "tags": []
          },
          "execution_count": 82
        }
      ]
    },
    {
      "cell_type": "code",
      "metadata": {
        "id": "7ulhUl_PjwzF",
        "colab_type": "code",
        "outputId": "8775d347-2a5b-436a-8832-0c740de7232e",
        "colab": {
          "base_uri": "https://localhost:8080/",
          "height": 131
        }
      },
      "source": [
        "# Map: It iterates over each element of a series.\n",
        "\n",
        "df['age'].map(lambda x: 1+x) # this will add a constant 1 to each element of column1 "
      ],
      "execution_count": 83,
      "outputs": [
        {
          "output_type": "execute_result",
          "data": {
            "text/plain": [
              "0    43.0\n",
              "1    43.0\n",
              "2    37.0\n",
              "3    25.0\n",
              "4    25.0\n",
              "5    43.0\n",
              "Name: age, dtype: float64"
            ]
          },
          "metadata": {
            "tags": []
          },
          "execution_count": 83
        }
      ]
    },
    {
      "cell_type": "code",
      "metadata": {
        "id": "2gwhS6PdjwzI",
        "colab_type": "code",
        "outputId": "cba9b654-3fc1-404f-9e1f-c79939054316",
        "colab": {
          "base_uri": "https://localhost:8080/",
          "height": 277
        }
      },
      "source": [
        "# ApplyMap: This helps to apply a function to each element of dataframe.\n",
        "func = lambda x: x + 1\n",
        "\n",
        "# all columns of dataframe should be numeric type as we are trying to perform addition operation\n",
        "df_filtered = df.iloc[:,2:4]\n",
        "print(\"------ Before applyMap ------\")\n",
        "print (df_filtered)\n",
        "print(\"------ After applyMap ------\")\n",
        "print (df_filtered.applymap(func)) #it will add a constant 1 to each element of dataframe"
      ],
      "execution_count": 84,
      "outputs": [
        {
          "output_type": "stream",
          "text": [
            "------ Before applyMap ------\n",
            "    age  age_plus_5\n",
            "0  42.0          47\n",
            "1  42.0          47\n",
            "2  36.0          41\n",
            "3  24.0          29\n",
            "4  24.0          29\n",
            "5  42.0          47\n",
            "------ After applyMap ------\n",
            "    age  age_plus_5\n",
            "0  43.0          48\n",
            "1  43.0          48\n",
            "2  37.0          42\n",
            "3  25.0          30\n",
            "4  25.0          30\n",
            "5  43.0          48\n"
          ],
          "name": "stdout"
        }
      ]
    },
    {
      "cell_type": "markdown",
      "metadata": {
        "id": "5r5eQEywjwzL",
        "colab_type": "text"
      },
      "source": [
        "### Merge\n",
        "\n",
        "Pandas has a rich functionality such as set operations of algebra and join operations of relations database, for combining multiple series, DataFrames"
      ]
    },
    {
      "cell_type": "code",
      "metadata": {
        "id": "swmtTSzVjwzL",
        "colab_type": "code",
        "outputId": "5f203b6f-0c7e-4bc8-ae46-72ac8f219c4c",
        "colab": {
          "base_uri": "https://localhost:8080/",
          "height": 131
        }
      },
      "source": [
        "data = {\n",
        "        'emp_id': ['1', '2', '3', '4', '5'],\n",
        "        'first_name': ['Jason', 'Andy', 'Allen', 'John', 'Amy'], \n",
        "        'last_name': ['Larkin', 'Jacob', 'A', 'AA', 'Jackson']}\n",
        "df_1 = pd.DataFrame(data, columns = ['emp_id', 'first_name', 'last_name'])\n",
        "print (\"----df_1----\")\n",
        "print (df_1)"
      ],
      "execution_count": 85,
      "outputs": [
        {
          "output_type": "stream",
          "text": [
            "----df_1----\n",
            "  emp_id first_name last_name\n",
            "0      1      Jason    Larkin\n",
            "1      2       Andy     Jacob\n",
            "2      3      Allen         A\n",
            "3      4       John        AA\n",
            "4      5        Amy   Jackson\n"
          ],
          "name": "stdout"
        }
      ]
    },
    {
      "cell_type": "code",
      "metadata": {
        "id": "FUl8HwfujwzR",
        "colab_type": "code",
        "outputId": "7d1fd2d9-29b9-4be0-e1b0-29c0b4993a43",
        "colab": {
          "base_uri": "https://localhost:8080/",
          "height": 98
        }
      },
      "source": [
        "data = {\n",
        "        'emp_id': ['4', '5', '6', '7'],\n",
        "        'first_name': ['James', 'Shize', 'Kim', 'Jose'], \n",
        "        'last_name': ['Alexander', 'Suma', 'Mike', 'G']}\n",
        "df_2 = pd.DataFrame(data, columns = ['emp_id', 'first_name', 'last_name'])\n",
        "print (df_2)"
      ],
      "execution_count": 86,
      "outputs": [
        {
          "output_type": "stream",
          "text": [
            "  emp_id first_name  last_name\n",
            "0      4      James  Alexander\n",
            "1      5      Shize       Suma\n",
            "2      6        Kim       Mike\n",
            "3      7       Jose          G\n"
          ],
          "name": "stdout"
        }
      ]
    },
    {
      "cell_type": "code",
      "metadata": {
        "id": "70WHi88LjwzW",
        "colab_type": "code",
        "outputId": "c7ea427b-38c5-484c-8632-6fd0fe71ba0d",
        "colab": {
          "base_uri": "https://localhost:8080/",
          "height": 342
        }
      },
      "source": [
        "# Using concat\n",
        "df = pd.concat([df_1, df_2])\n",
        "print (df)\n",
        "\n",
        "# Using append\n",
        "print (df_1.append(df_2))"
      ],
      "execution_count": 87,
      "outputs": [
        {
          "output_type": "stream",
          "text": [
            "  emp_id first_name  last_name\n",
            "0      1      Jason     Larkin\n",
            "1      2       Andy      Jacob\n",
            "2      3      Allen          A\n",
            "3      4       John         AA\n",
            "4      5        Amy    Jackson\n",
            "0      4      James  Alexander\n",
            "1      5      Shize       Suma\n",
            "2      6        Kim       Mike\n",
            "3      7       Jose          G\n",
            "  emp_id first_name  last_name\n",
            "0      1      Jason     Larkin\n",
            "1      2       Andy      Jacob\n",
            "2      3      Allen          A\n",
            "3      4       John         AA\n",
            "4      5        Amy    Jackson\n",
            "0      4      James  Alexander\n",
            "1      5      Shize       Suma\n",
            "2      6        Kim       Mike\n",
            "3      7       Jose          G\n"
          ],
          "name": "stdout"
        }
      ]
    },
    {
      "cell_type": "code",
      "metadata": {
        "id": "ldmZOfdcjwza",
        "colab_type": "code",
        "outputId": "4eafc38d-db48-46d0-eda7-8e2ddb4a4f5c",
        "colab": {
          "base_uri": "https://localhost:8080/",
          "height": 115
        }
      },
      "source": [
        "# Join the two dataframes along columns\n",
        "print (pd.concat([df_1, df_2], axis=1))"
      ],
      "execution_count": 88,
      "outputs": [
        {
          "output_type": "stream",
          "text": [
            "  emp_id first_name last_name emp_id first_name  last_name\n",
            "0      1      Jason    Larkin      4      James  Alexander\n",
            "1      2       Andy     Jacob      5      Shize       Suma\n",
            "2      3      Allen         A      6        Kim       Mike\n",
            "3      4       John        AA      7       Jose          G\n",
            "4      5        Amy   Jackson    NaN        NaN        NaN\n"
          ],
          "name": "stdout"
        }
      ]
    },
    {
      "cell_type": "code",
      "metadata": {
        "id": "v6Nbalu9jwze",
        "colab_type": "code",
        "outputId": "95a04bc5-b112-4d15-92cb-22a3b29b1c09",
        "colab": {
          "base_uri": "https://localhost:8080/",
          "height": 66
        }
      },
      "source": [
        "# Merge two dataframes based on the emp_id value\n",
        "# in this case only the emp_id's present in both table will be joined\n",
        "print (pd.merge(df_1, df_2, on='emp_id'))"
      ],
      "execution_count": 89,
      "outputs": [
        {
          "output_type": "stream",
          "text": [
            "  emp_id first_name_x last_name_x first_name_y last_name_y\n",
            "0      4         John          AA        James   Alexander\n",
            "1      5          Amy     Jackson        Shize        Suma\n"
          ],
          "name": "stdout"
        }
      ]
    },
    {
      "cell_type": "markdown",
      "metadata": {
        "id": "C6My9QB6jwzg",
        "colab_type": "text"
      },
      "source": [
        "### Join (SQL Style Merges)\n",
        "\n",
        "Left join produces an output table containing complete set of records from Table A, and only the matching records in Table B. If there is no match, the right side will contain null.\n",
        "\n",
        "Note: Note that you can suffixe to avoid duplicate, if not provided it will automatically add x to the Table A and y to Table B"
      ]
    },
    {
      "cell_type": "code",
      "metadata": {
        "id": "oPjTW9Uijwzg",
        "colab_type": "code",
        "outputId": "8642a8c4-1c60-4513-df91-395cad2e2637",
        "colab": {}
      },
      "source": [
        "# Left join\n",
        "print (pd.merge(df_1, df_2, on='emp_id', how='left'))\n",
        "\n",
        "# Add a suffix to duplicate column names of both table\n",
        "print (pd.merge(df_1, df_2, on='emp_id', how='left', suffixes=('_left', '_right')))"
      ],
      "execution_count": 0,
      "outputs": [
        {
          "output_type": "stream",
          "text": [
            "  emp_id first_name_x last_name_x first_name_y last_name_y\n",
            "0      1        Jason      Larkin          NaN         NaN\n",
            "1      2         Andy       Jacob          NaN         NaN\n",
            "2      3        Allen           A          NaN         NaN\n",
            "3      4         John          AA        James   Alexander\n",
            "4      5          Amy     Jackson        Shize        Suma\n",
            "  emp_id first_name_left last_name_left first_name_right last_name_right\n",
            "0      1           Jason         Larkin              NaN             NaN\n",
            "1      2            Andy          Jacob              NaN             NaN\n",
            "2      3           Allen              A              NaN             NaN\n",
            "3      4            John             AA            James       Alexander\n",
            "4      5             Amy        Jackson            Shize            Suma\n"
          ],
          "name": "stdout"
        }
      ]
    },
    {
      "cell_type": "markdown",
      "metadata": {
        "id": "DzJ1ZSHojwzi",
        "colab_type": "text"
      },
      "source": [
        "Right join - Right join produces an output table with complete set of records from Table B, and matching records from Table A. If there is no match, the left side will contain null."
      ]
    },
    {
      "cell_type": "code",
      "metadata": {
        "id": "y0oTkRE1jwzi",
        "colab_type": "code",
        "outputId": "30287bce-bd31-4c58-dd49-651e99036bfd",
        "colab": {}
      },
      "source": [
        "# right join\n",
        "print (pd.merge(df_1, df_2, on='emp_id', how='right'))"
      ],
      "execution_count": 0,
      "outputs": [
        {
          "output_type": "stream",
          "text": [
            "  emp_id first_name_x last_name_x first_name_y last_name_y\n",
            "0      4         John          AA        James   Alexander\n",
            "1      5          Amy     Jackson        Shize        Suma\n",
            "2      6          NaN         NaN          Kim        Mike\n",
            "3      7          NaN         NaN         Jose           G\n"
          ],
          "name": "stdout"
        }
      ]
    },
    {
      "cell_type": "markdown",
      "metadata": {
        "id": "HuZCIX8Ajwzl",
        "colab_type": "text"
      },
      "source": [
        "### Inner Join\n",
        "\n",
        "Inner join produces an output talbe that contains only the set of records that match in both Table A and Table B"
      ]
    },
    {
      "cell_type": "code",
      "metadata": {
        "id": "Lpusd7YFjwzm",
        "colab_type": "code",
        "outputId": "0219cd2b-373f-4637-a9d0-1ce1adef8dce",
        "colab": {}
      },
      "source": [
        "print (pd.merge(df_1, df_2, on='emp_id', how='inner'))"
      ],
      "execution_count": 0,
      "outputs": [
        {
          "output_type": "stream",
          "text": [
            "  emp_id first_name_x last_name_x first_name_y last_name_y\n",
            "0      4         John          AA        James   Alexander\n",
            "1      5          Amy     Jackson        Shize        Suma\n"
          ],
          "name": "stdout"
        }
      ]
    },
    {
      "cell_type": "markdown",
      "metadata": {
        "id": "C0iHslA_jwzq",
        "colab_type": "text"
      },
      "source": [
        "### Outer Join\n",
        "\n",
        "Also known as full outer join will produce an output table that contains set of all records in Table A and Table B, with matching records from both sides. If there is no match, the missing side will contain null"
      ]
    },
    {
      "cell_type": "code",
      "metadata": {
        "id": "aWE-MLBpjwzq",
        "colab_type": "code",
        "outputId": "511d95cb-96b8-48fa-8a09-c5b14b841182",
        "colab": {
          "base_uri": "https://localhost:8080/",
          "height": 147
        }
      },
      "source": [
        "print (pd.merge(df_1, df_2, on='emp_id', how='outer'))"
      ],
      "execution_count": 90,
      "outputs": [
        {
          "output_type": "stream",
          "text": [
            "  emp_id first_name_x last_name_x first_name_y last_name_y\n",
            "0      1        Jason      Larkin          NaN         NaN\n",
            "1      2         Andy       Jacob          NaN         NaN\n",
            "2      3        Allen           A          NaN         NaN\n",
            "3      4         John          AA        James   Alexander\n",
            "4      5          Amy     Jackson        Shize        Suma\n",
            "5      6          NaN         NaN          Kim        Mike\n",
            "6      7          NaN         NaN         Jose           G\n"
          ],
          "name": "stdout"
        }
      ]
    },
    {
      "cell_type": "code",
      "metadata": {
        "id": "u0X6kxrDjwzt",
        "colab_type": "code",
        "outputId": "f90d782b-def6-490c-9571-b8ebc757f350",
        "colab": {
          "base_uri": "https://localhost:8080/",
          "height": 162
        }
      },
      "source": [
        "# Merge based on indexes\n",
        "pd.merge(df_1, df_2, right_index=True, left_index=True)"
      ],
      "execution_count": 91,
      "outputs": [
        {
          "output_type": "execute_result",
          "data": {
            "text/html": [
              "<div>\n",
              "<style scoped>\n",
              "    .dataframe tbody tr th:only-of-type {\n",
              "        vertical-align: middle;\n",
              "    }\n",
              "\n",
              "    .dataframe tbody tr th {\n",
              "        vertical-align: top;\n",
              "    }\n",
              "\n",
              "    .dataframe thead th {\n",
              "        text-align: right;\n",
              "    }\n",
              "</style>\n",
              "<table border=\"1\" class=\"dataframe\">\n",
              "  <thead>\n",
              "    <tr style=\"text-align: right;\">\n",
              "      <th></th>\n",
              "      <th>emp_id_x</th>\n",
              "      <th>first_name_x</th>\n",
              "      <th>last_name_x</th>\n",
              "      <th>emp_id_y</th>\n",
              "      <th>first_name_y</th>\n",
              "      <th>last_name_y</th>\n",
              "    </tr>\n",
              "  </thead>\n",
              "  <tbody>\n",
              "    <tr>\n",
              "      <th>0</th>\n",
              "      <td>1</td>\n",
              "      <td>Jason</td>\n",
              "      <td>Larkin</td>\n",
              "      <td>4</td>\n",
              "      <td>James</td>\n",
              "      <td>Alexander</td>\n",
              "    </tr>\n",
              "    <tr>\n",
              "      <th>1</th>\n",
              "      <td>2</td>\n",
              "      <td>Andy</td>\n",
              "      <td>Jacob</td>\n",
              "      <td>5</td>\n",
              "      <td>Shize</td>\n",
              "      <td>Suma</td>\n",
              "    </tr>\n",
              "    <tr>\n",
              "      <th>2</th>\n",
              "      <td>3</td>\n",
              "      <td>Allen</td>\n",
              "      <td>A</td>\n",
              "      <td>6</td>\n",
              "      <td>Kim</td>\n",
              "      <td>Mike</td>\n",
              "    </tr>\n",
              "    <tr>\n",
              "      <th>3</th>\n",
              "      <td>4</td>\n",
              "      <td>John</td>\n",
              "      <td>AA</td>\n",
              "      <td>7</td>\n",
              "      <td>Jose</td>\n",
              "      <td>G</td>\n",
              "    </tr>\n",
              "  </tbody>\n",
              "</table>\n",
              "</div>"
            ],
            "text/plain": [
              "  emp_id_x first_name_x last_name_x emp_id_y first_name_y last_name_y\n",
              "0        1        Jason      Larkin        4        James   Alexander\n",
              "1        2         Andy       Jacob        5        Shize        Suma\n",
              "2        3        Allen           A        6          Kim        Mike\n",
              "3        4         John          AA        7         Jose           G"
            ]
          },
          "metadata": {
            "tags": []
          },
          "execution_count": 91
        }
      ]
    },
    {
      "cell_type": "markdown",
      "metadata": {
        "id": "VXPXajUbjwzw",
        "colab_type": "text"
      },
      "source": [
        "### Grouping\n",
        "\n",
        "Pandas “group by” will enable us to achieve the below:\n",
        "\n",
        "* Applying an aggregation function to each group independently\n",
        "* Based on some criteria split the data into groups\n",
        "* Combining the results of the \"group by\" into a data structure"
      ]
    },
    {
      "cell_type": "code",
      "metadata": {
        "id": "aifPSkGbjwzw",
        "colab_type": "code",
        "outputId": "ef8a2c45-0114-4185-a202-c689366b0cac",
        "colab": {
          "base_uri": "https://localhost:8080/",
          "height": 163
        }
      },
      "source": [
        "df = pd.DataFrame({'Name' : ['jack', 'jane', 'jack', 'jane', 'jack', 'jane', 'jack', 'jane'],\n",
        "                   'State' : ['SFO', 'SFO', 'NYK', 'CA', 'NYK', 'NYK', 'SFO', 'CA'],\n",
        "                   'Grade':['A','A','B','A','C','B','C','A'],\n",
        "                   'Age' : np.random.uniform(40, 50, size=8),\n",
        "                   'Salary' : np.random.uniform(2000, 5000, size=8),})\n",
        "\n",
        "# Note that the columns are ordered automatically in their alphabetic order\n",
        "# for custom order please use below code\n",
        "#df = pd.DataFrame(data, columns = ['Name', 'State', 'Age','Salary'])\n",
        "print (df)"
      ],
      "execution_count": 97,
      "outputs": [
        {
          "output_type": "stream",
          "text": [
            "   Name State Grade        Age       Salary\n",
            "0  jack   SFO     A  43.973910  3226.394121\n",
            "1  jane   SFO     A  49.490898  4237.926020\n",
            "2  jack   NYK     B  47.714932  4054.907566\n",
            "3  jane    CA     A  45.228609  2194.268753\n",
            "4  jack   NYK     C  49.709122  2324.647262\n",
            "5  jane   NYK     B  44.900864  4025.538325\n",
            "6  jack   SFO     C  47.402608  3916.706417\n",
            "7  jane    CA     A  46.234114  3986.591018\n"
          ],
          "name": "stdout"
        }
      ]
    },
    {
      "cell_type": "code",
      "metadata": {
        "id": "yaAjIPZQjwzy",
        "colab_type": "code",
        "outputId": "ba8d1ec3-9275-495d-e766-49caa85dcc2d",
        "colab": {
          "base_uri": "https://localhost:8080/",
          "height": 133
        }
      },
      "source": [
        "df.groupby('Name').sum()"
      ],
      "execution_count": 98,
      "outputs": [
        {
          "output_type": "execute_result",
          "data": {
            "text/html": [
              "<div>\n",
              "<style scoped>\n",
              "    .dataframe tbody tr th:only-of-type {\n",
              "        vertical-align: middle;\n",
              "    }\n",
              "\n",
              "    .dataframe tbody tr th {\n",
              "        vertical-align: top;\n",
              "    }\n",
              "\n",
              "    .dataframe thead th {\n",
              "        text-align: right;\n",
              "    }\n",
              "</style>\n",
              "<table border=\"1\" class=\"dataframe\">\n",
              "  <thead>\n",
              "    <tr style=\"text-align: right;\">\n",
              "      <th></th>\n",
              "      <th>Age</th>\n",
              "      <th>Salary</th>\n",
              "    </tr>\n",
              "    <tr>\n",
              "      <th>Name</th>\n",
              "      <th></th>\n",
              "      <th></th>\n",
              "    </tr>\n",
              "  </thead>\n",
              "  <tbody>\n",
              "    <tr>\n",
              "      <th>jack</th>\n",
              "      <td>188.800572</td>\n",
              "      <td>13522.655366</td>\n",
              "    </tr>\n",
              "    <tr>\n",
              "      <th>jane</th>\n",
              "      <td>185.854485</td>\n",
              "      <td>14444.324115</td>\n",
              "    </tr>\n",
              "  </tbody>\n",
              "</table>\n",
              "</div>"
            ],
            "text/plain": [
              "             Age        Salary\n",
              "Name                          \n",
              "jack  188.800572  13522.655366\n",
              "jane  185.854485  14444.324115"
            ]
          },
          "metadata": {
            "tags": []
          },
          "execution_count": 98
        }
      ]
    },
    {
      "cell_type": "code",
      "metadata": {
        "id": "i2w86Jsejwz0",
        "colab_type": "code",
        "outputId": "88cc4211-3b3d-4182-d6c7-66bd71dc1c9e",
        "colab": {
          "base_uri": "https://localhost:8080/",
          "height": 131
        }
      },
      "source": [
        "# Find max age and salary by Name / State\n",
        "# You can use all aggregate functions such as min, max, mean, count, cumsum\n",
        "print (df.groupby(['Name','State']).max())"
      ],
      "execution_count": 101,
      "outputs": [
        {
          "output_type": "stream",
          "text": [
            "           Grade        Age       Salary\n",
            "Name State                              \n",
            "jack NYK       C  49.709122  4054.907566\n",
            "     SFO       C  47.402608  3916.706417\n",
            "jane CA        A  46.234114  3986.591018\n",
            "     NYK       B  44.900864  4025.538325\n",
            "     SFO       A  49.490898  4237.926020\n"
          ],
          "name": "stdout"
        }
      ]
    },
    {
      "cell_type": "markdown",
      "metadata": {
        "id": "178szVRQjwz2",
        "colab_type": "text"
      },
      "source": [
        "### Pivot Tables\n",
        "\n",
        "Pandas provides a function 'pivot_table' to create MS-Excel spreadsheet style pivot table. It can take following arguments:\n",
        "\n",
        "*\tdata: DataFrame object\n",
        "*\tvalues: column to aggregate\n",
        "*\tindex: row labels\n",
        "*\tcolumns: column labels\n",
        "*\taggfunc: aggregation function to be used on values, default is NumPy.mean"
      ]
    },
    {
      "cell_type": "code",
      "metadata": {
        "id": "Uif0P3emjwz2",
        "colab_type": "code",
        "outputId": "a0ac663f-5293-4d21-af60-a1cfdb1606be",
        "colab": {
          "base_uri": "https://localhost:8080/",
          "height": 131
        }
      },
      "source": [
        "# by state and name find mean age for each grade\n",
        "print (pd.pivot_table(df, values='Age', index=['State', 'Name'], columns=['Grade']))"
      ],
      "execution_count": 100,
      "outputs": [
        {
          "output_type": "stream",
          "text": [
            "Grade               A          B          C\n",
            "State Name                                 \n",
            "CA    jane  45.731362        NaN        NaN\n",
            "NYK   jack        NaN  47.714932  49.709122\n",
            "      jane        NaN  44.900864        NaN\n",
            "SFO   jack  43.973910        NaN  47.402608\n",
            "      jane  49.490898        NaN        NaN\n"
          ],
          "name": "stdout"
        }
      ]
    }
  ]
}